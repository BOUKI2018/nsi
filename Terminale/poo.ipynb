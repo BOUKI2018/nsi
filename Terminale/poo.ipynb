{
 "cells": [
  {
   "cell_type": "markdown",
   "metadata": {},
   "source": [
    "Notebook à retrouver sur https://colab.research.google.com/github/glassus/nsi/blob/master/Terminale/poo.ipynb"
   ]
  },
  {
   "cell_type": "markdown",
   "metadata": {},
   "source": [
    "# Programmation orientée objet"
   ]
  },
  {
   "cell_type": "code",
   "execution_count": 2,
   "metadata": {},
   "outputs": [],
   "source": [
    "class objet :\n",
    "    def __init__() :\n",
    "        self.x = 4"
   ]
  },
  {
   "cell_type": "markdown",
   "metadata": {},
   "source": [
    "<table>\n",
    "  <tr>\n",
    "    <th>Header 1</th>\n",
    "    <th>Header 2</th>\n",
    "  </tr>\n",
    "  <tr>\n",
    "    <td>row 1, cell 1</td>\n",
    "    <td>row 1, cell 2</td>\n",
    "  </tr>\n",
    "  <tr>\n",
    "    <td>row 2, cell 1</td>\n",
    "    <td>row 2, cell 2</td>\n",
    "  </tr>\n",
    "</table>\n",
    "\n",
    "Testons le ```ping``` de la machine ```192.168.0.1```  vers la machine ```192.168.0.3```.\n",
    "\n",
    "<details><summary> Résultat </summary>\n",
    "<p>\n",
    "\n",
    "blabla\n",
    "</p>\n",
    "</details>\n",
    "\n",
    "<br>"
   ]
  },
  {
   "cell_type": "markdown",
   "metadata": {
    "hide_input": true
   },
   "source": [
    "\\begin{equation}\n",
    "  e^x = \\sum_{j=0}^{\\infty} \\frac{1}{j!} x^j\n",
    "\\end{equation}"
   ]
  },
  {
   "cell_type": "code",
   "execution_count": null,
   "metadata": {},
   "outputs": [],
   "source": []
  }
 ],
 "metadata": {
  "kernelspec": {
   "display_name": "Python 3",
   "language": "python",
   "name": "python3"
  },
  "language_info": {
   "codemirror_mode": {
    "name": "ipython",
    "version": 2
   },
   "file_extension": ".py",
   "mimetype": "text/x-python",
   "name": "python",
   "nbconvert_exporter": "python",
   "pygments_lexer": "ipython2",
   "version": "2.7.17"
  },
  "toc": {
   "base_numbering": 1,
   "nav_menu": {},
   "number_sections": true,
   "sideBar": true,
   "skip_h1_title": false,
   "title_cell": "Table of Contents",
   "title_sidebar": "Contents",
   "toc_cell": false,
   "toc_position": {},
   "toc_section_display": true,
   "toc_window_display": false
  }
 },
 "nbformat": 4,
 "nbformat_minor": 2
}
