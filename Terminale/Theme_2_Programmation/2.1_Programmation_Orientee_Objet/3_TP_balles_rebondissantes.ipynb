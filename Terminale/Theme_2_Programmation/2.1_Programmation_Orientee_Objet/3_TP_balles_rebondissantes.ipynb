{
 "cells": [
  {
   "cell_type": "markdown",
   "metadata": {},
   "source": [
    "# TP de Programmation Orientée Objet : (beaucoup de) balles rebondissantes"
   ]
  },
  {
   "cell_type": "markdown",
   "metadata": {},
   "source": [
    "## 1. Prise en main de Pygame\n",
    "En utilisant par exemple un https://repl.it/ démarré sur un code Pygame, testez le code suivant :"
   ]
  },
  {
   "cell_type": "code",
   "execution_count": 3,
   "metadata": {
    "scrolled": false
   },
   "outputs": [
    {
     "ename": "SystemExit",
     "evalue": "",
     "output_type": "error",
     "traceback": [
      "An exception has occurred, use %tb to see the full traceback.\n",
      "\u001b[0;31mSystemExit\u001b[0m\n"
     ]
    }
   ],
   "source": [
    "import pygame, sys\n",
    "import time\n",
    "from pygame.locals import *\n",
    "pygame.init()\n",
    "fenetre = pygame.display.set_mode((640, 480))\n",
    "fenetre.fill([0,0,0])\n",
    "\n",
    "x = 300\n",
    "y = 200\n",
    "dx = 4\n",
    "dy = -3\n",
    "couleur = (45,170,250)\n",
    "\n",
    "while True :\n",
    "    fenetre.fill([0,0,0])\n",
    "    pygame.draw.circle(fenetre,couleur,(x,y),10)\n",
    "    \n",
    "    x += dx\n",
    "    y += dy\n",
    "    \n",
    "    pygame.display.flip()\n",
    "    \n",
    "    # routine pour pouvoir fermer «proprement» la fenêtre Pygame\n",
    "    for event in pygame.event.get():\n",
    "        if event.type == pygame.QUIT:\n",
    "            pygame.display.quit(), sys.exit()\n",
    "    \n",
    "    \n",
    "    time.sleep(0.1)"
   ]
  },
  {
   "cell_type": "code",
   "execution_count": null,
   "metadata": {},
   "outputs": [],
   "source": []
  }
 ],
 "metadata": {
  "kernelspec": {
   "display_name": "Python 3",
   "language": "python",
   "name": "python3"
  },
  "language_info": {
   "codemirror_mode": {
    "name": "ipython",
    "version": 3
   },
   "file_extension": ".py",
   "mimetype": "text/x-python",
   "name": "python",
   "nbconvert_exporter": "python",
   "pygments_lexer": "ipython3",
   "version": "3.6.9"
  }
 },
 "nbformat": 4,
 "nbformat_minor": 4
}
