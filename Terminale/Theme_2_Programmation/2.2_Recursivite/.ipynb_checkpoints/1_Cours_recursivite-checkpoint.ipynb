{
 "cells": [
  {
   "cell_type": "markdown",
   "metadata": {},
   "source": [
    "# La récursivité\n",
    "\n",
    "![](data/infini.jpeg)"
   ]
  },
  {
   "cell_type": "markdown",
   "metadata": {},
   "source": [
    "## 1. Première approche\n",
    "### 1.1. Définition\n",
    "> Une méthode est dite récursive lorsqu'elle fait appel à elle-même dans sa propre définition. "
   ]
  },
  {
   "cell_type": "markdown",
   "metadata": {},
   "source": [
    "### 1.2 Un très mauvais exemple\n",
    "C'est déjà une première chose à comprendre : un programme **peut** être appelé par lui-même, à l'intérieur de sa propre définition."
   ]
  },
  {
   "cell_type": "code",
   "execution_count": 2,
   "metadata": {},
   "outputs": [],
   "source": [
    "def prems():\n",
    "    print(\"un très mauvais exemple\")\n",
    "    prems()"
   ]
  },
  {
   "cell_type": "code",
   "execution_count": null,
   "metadata": {},
   "outputs": [],
   "source": [
    "prems()"
   ]
  },
  {
   "cell_type": "markdown",
   "metadata": {},
   "source": [
    "```un très mauvais exemple\n",
    "un très mauvais exemple\n",
    "un très mauvais exemple\n",
    "un très mauvais exemple\n",
    "un très mauvais exemple\n",
    "un très mauvais exemple\n",
    "un très mauvais exemple\n",
    "un très mauvais exemple\n",
    "un très mauvais exemple\n",
    "un très mauvais exemple\n",
    "un très mauvais exemple\n",
    "un très mauvais exemple\n",
    "un très mauvais exemple\n",
    "un très mauvais exemple\n",
    "...```"
   ]
  },
  {
   "cell_type": "markdown",
   "metadata": {},
   "source": [
    "Évidemment, comme prévu, ce programme ne s'arrête pas. Nous sommes obligés de l'arrêter manuellement. Nous sommes (volontairement) tombés dans un piège qui sera systématiquement présent lors d'une programmation récursive : [le piège de la boucle infinie](data/meme2.gif).  \n",
    "\n",
    "\n",
    "> Les [acronymes récursifs](https://fr.wikipedia.org/wiki/Sigles_auto-r%C3%A9f%C3%A9rentiels) représentent le même concept... et illustrent le même piège.\n",
    "Par exemple, GNU signifie GNU is Not Unix. On ne sait jamais vraiment ce que signifie GNU...  \n",
    "\n",
    "Mais attention : la récursivité ne DOIT PAS être associée à une auto-référence vertigineuse : c'est en algorithmique une méthode (parfois) très efficace, à condition de respecter une règle cruciale : **la condition d'arrêt**\n",
    "\n",
    "\n",
    "![](data/realpython.png)\n",
    "(extrait du site https://realpython.com/)"
   ]
  },
  {
   "cell_type": "markdown",
   "metadata": {},
   "source": [
    "\n",
    "Lorsque nous allons programmer une fonction récursive, nous allons donc commencer par la fin, c'est-à-dire par le moment où elle renvoie effectivement un résultat.\n",
    "\n",
    "Imaginez que vous devez cacher une clé dans une maison : \n",
    "- vous commencez par la cacher sous le lavabo de la salle de bain. \n",
    "- puis vous laissez un mot sur la table de la cuisine : «allez voir sur la première marche de l'escalier».\n",
    "- puis vous laissez un mot sur la première marche de l'escalier : «allez voir sur le canapé du salon».\n",
    "- etc, jusqu'à l'indice final «allez voir sous le lavabo de la salle de bain».\n",
    "\n",
    "La personne qui va subir cette chasse au trésor va rentrer dans un processus où chaque indice va en appeler un autre, mais elle sait très bien que ces indices emboîtés vont s'arrêter un jour.\n",
    "\n",
    "Lorsque vous allez programmer un algorithme récursif, vous allez donc commencer par la situation finale.\n",
    "\n",
    "Pour arriver progressivement vers la situation finale , chaque appel récursif se fera en décrémentant un paramètre : cela assurera l'arrêt du programme.\n",
    "\n",
    "Observons ceci dans l'exemple suivant :"
   ]
  },
  {
   "cell_type": "markdown",
   "metadata": {},
   "source": [
    "### 1.3 Enfin un bon exemple"
   ]
  },
  {
   "cell_type": "code",
   "execution_count": 1,
   "metadata": {},
   "outputs": [],
   "source": [
    "def mystere(n):\n",
    "    if n == 0 :\n",
    "        return 0\n",
    "    else : \n",
    "        return n + mystere(n-1)"
   ]
  },
  {
   "cell_type": "markdown",
   "metadata": {},
   "source": [
    "Observer :\n",
    "- la condition d'arrêt (si ```n``` vaut 0 on renvoie *vraiment* une valeur, en l'occurence 0)\n",
    "- l'appel récursif\n",
    "- la décrémentation du paramètre d'appel"
   ]
  },
  {
   "cell_type": "code",
   "execution_count": 2,
   "metadata": {},
   "outputs": [
    {
     "data": {
      "text/plain": [
       "0"
      ]
     },
     "execution_count": 2,
     "metadata": {},
     "output_type": "execute_result"
    }
   ],
   "source": [
    "mystere(0)"
   ]
  },
  {
   "cell_type": "code",
   "execution_count": 3,
   "metadata": {},
   "outputs": [
    {
     "data": {
      "text/plain": [
       "10"
      ]
     },
     "execution_count": 3,
     "metadata": {},
     "output_type": "execute_result"
    }
   ],
   "source": [
    "mystere(4)"
   ]
  },
  {
   "cell_type": "markdown",
   "metadata": {},
   "source": [
    "Que se passe-t-il lorsqu'on appelle ```mystere(4)``` ?\n",
    "\n",
    "\\begin{align}\n",
    "  \\rm{mystere(4)} &= 4+ \\rm{mystere(3)}\\\\\n",
    "   &= 4+ (3+\\rm{mystere(2)}) \\\\\n",
    "   &= 4+ (3+(2+\\rm{mystere(1)} )) \\\\\n",
    "   &= 4+ (3+(2+(1+\\rm{mystere(0)} ))) \\\\   \n",
    "   &= 4+ (3+(2+(1+0 ))) \\\\  \n",
    "\\end{align}\n",
    "\n",
    "\n",
    "On voit que la condition d'arrêt pour $n=0$ est primordiale pour éviter la récursion infinie.\n",
    "\n",
    "![](data/diag.png)\n",
    "\n",
    "\n",
    "Cette fonction ```mystere(n)``` calcule donc la somme des entiers positifs inférieurs ou égaux à $n$."
   ]
  },
  {
   "cell_type": "markdown",
   "metadata": {},
   "source": [
    "Visualisez l'exécution de cette fonction sur [PythonTutor](http://pythontutor.com/visualize.html#code=def%20mystere%28n%29%3A%0A%20%20%20%20if%20n%20%3D%3D%200%20%3A%0A%20%20%20%20%20%20%20%20return%200%0A%20%20%20%20else%20%3A%20%0A%20%20%20%20%20%20%20%20return%20n%20%2B%20mystere%28n-1%29%0A%0Aprint%28mystere%285%29%29&cumulative=false&curInstr=0&heapPrimitives=nevernest&mode=display&origin=opt-frontend.js&py=3&rawInputLstJSON=%5B%5D&textReferences=false)"
   ]
  },
  {
   "cell_type": "markdown",
   "metadata": {},
   "source": [
    "### 1.4 Notion de pile\n",
    "Lors d'un appel à une fonction récursive, une structure de **pile** est utilisée pour stocker les contextes d'exécution de chaque appel. Dans la notion de pile (qui sera traitée plus tard dans le programme de Terminale), seule l'instruction «en haut de la pile» peut être traitée et enlevée (on dit «dépilée»).\n",
    "\n",
    "La pile d'appels de notre fonction ```mystere(5)``` peut donc être schématisé comme ceci :\n",
    "\n",
    "![](data/pile_execution.gif)"
   ]
  },
  {
   "cell_type": "markdown",
   "metadata": {},
   "source": [
    "### Exercice 1\n",
    "Programmer de manière impérative (manière *classique*) puis de manière récursive la fonction ```factorielle(n)``` (notée $n!$ en mathématiques), qui calcule le produit d'un entier $n$ par les entiers positifs qui lui sont inférieurs :\n",
    "$$ n! = n \\times (n-1) \\times (n-2) \\times  \\dots \\times 3 \\times 2 \\times 1$$\n",
    "Exemples : \n",
    "- $5!=5\\times4\\times3\\times2\\times1=120$\n",
    "- $1!=1$"
   ]
  },
  {
   "cell_type": "code",
   "execution_count": 5,
   "metadata": {},
   "outputs": [],
   "source": []
  },
  {
   "cell_type": "markdown",
   "metadata": {},
   "source": [
    "Lien vers une [correction](https://gist.github.com/glassus/de73e52a753f58e2e29e2ebad5a09871)"
   ]
  },
  {
   "cell_type": "markdown",
   "metadata": {},
   "source": [
    "### 1.4 Problèmes de profondeur de la récursion"
   ]
  },
  {
   "cell_type": "code",
   "execution_count": 32,
   "metadata": {},
   "outputs": [
    {
     "ename": "RecursionError",
     "evalue": "maximum recursion depth exceeded in comparison",
     "output_type": "error",
     "traceback": [
      "\u001b[0;31m---------------------------------------------------------------------------\u001b[0m",
      "\u001b[0;31mRecursionError\u001b[0m                            Traceback (most recent call last)",
      "\u001b[0;32m<ipython-input-32-a97c4dde4ef8>\u001b[0m in \u001b[0;36m<module>\u001b[0;34m\u001b[0m\n\u001b[0;32m----> 1\u001b[0;31m \u001b[0mmystere\u001b[0m\u001b[0;34m(\u001b[0m\u001b[0;36m2962\u001b[0m\u001b[0;34m)\u001b[0m\u001b[0;34m\u001b[0m\u001b[0;34m\u001b[0m\u001b[0m\n\u001b[0m",
      "\u001b[0;32m<ipython-input-1-386660a434f2>\u001b[0m in \u001b[0;36mmystere\u001b[0;34m(n)\u001b[0m\n\u001b[1;32m      3\u001b[0m         \u001b[0;32mreturn\u001b[0m \u001b[0;36m0\u001b[0m\u001b[0;34m\u001b[0m\u001b[0;34m\u001b[0m\u001b[0m\n\u001b[1;32m      4\u001b[0m     \u001b[0;32melse\u001b[0m \u001b[0;34m:\u001b[0m\u001b[0;34m\u001b[0m\u001b[0;34m\u001b[0m\u001b[0m\n\u001b[0;32m----> 5\u001b[0;31m         \u001b[0;32mreturn\u001b[0m \u001b[0mn\u001b[0m \u001b[0;34m+\u001b[0m \u001b[0mmystere\u001b[0m\u001b[0;34m(\u001b[0m\u001b[0mn\u001b[0m\u001b[0;34m-\u001b[0m\u001b[0;36m1\u001b[0m\u001b[0;34m)\u001b[0m\u001b[0;34m\u001b[0m\u001b[0;34m\u001b[0m\u001b[0m\n\u001b[0m",
      "... last 1 frames repeated, from the frame below ...\n",
      "\u001b[0;32m<ipython-input-1-386660a434f2>\u001b[0m in \u001b[0;36mmystere\u001b[0;34m(n)\u001b[0m\n\u001b[1;32m      3\u001b[0m         \u001b[0;32mreturn\u001b[0m \u001b[0;36m0\u001b[0m\u001b[0;34m\u001b[0m\u001b[0;34m\u001b[0m\u001b[0m\n\u001b[1;32m      4\u001b[0m     \u001b[0;32melse\u001b[0m \u001b[0;34m:\u001b[0m\u001b[0;34m\u001b[0m\u001b[0;34m\u001b[0m\u001b[0m\n\u001b[0;32m----> 5\u001b[0;31m         \u001b[0;32mreturn\u001b[0m \u001b[0mn\u001b[0m \u001b[0;34m+\u001b[0m \u001b[0mmystere\u001b[0m\u001b[0;34m(\u001b[0m\u001b[0mn\u001b[0m\u001b[0;34m-\u001b[0m\u001b[0;36m1\u001b[0m\u001b[0;34m)\u001b[0m\u001b[0;34m\u001b[0m\u001b[0;34m\u001b[0m\u001b[0m\n\u001b[0m",
      "\u001b[0;31mRecursionError\u001b[0m: maximum recursion depth exceeded in comparison"
     ]
    }
   ],
   "source": [
    "mystere(2962)"
   ]
  },
  {
   "cell_type": "markdown",
   "metadata": {},
   "source": [
    "Note historique : une anecdote raconte que [Carl Friedrich Gauss](https://fr.wikipedia.org/wiki/Carl_Friedrich_Gauss) trouva cette valeur de 5050 en quelques secondes, devant son instituteur ébahi.  \n",
    "Il venait pour cela d'inventer la formule : \n",
    "$$1+2+3+\\dots+n=\\frac{n(n+1)}{2}$$\n",
    "\n",
    "Ici, $1+2+3+\\dots+100=\\frac{100\\times 101)}{2}=50 \\times 101=5050$"
   ]
  },
  {
   "cell_type": "code",
   "execution_count": null,
   "metadata": {},
   "outputs": [],
   "source": []
  }
 ],
 "metadata": {
  "kernelspec": {
   "display_name": "Python 3",
   "language": "python",
   "name": "python3"
  },
  "language_info": {
   "codemirror_mode": {
    "name": "ipython",
    "version": 3
   },
   "file_extension": ".py",
   "mimetype": "text/x-python",
   "name": "python",
   "nbconvert_exporter": "python",
   "pygments_lexer": "ipython3",
   "version": "3.6.9"
  }
 },
 "nbformat": 4,
 "nbformat_minor": 4
}
