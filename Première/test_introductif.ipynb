{
 "cells": [
  {
   "cell_type": "markdown",
   "metadata": {},
   "source": [
    "## Question 1\n",
    "\n",
    "Créer une variable a contenant la valeur 12.\n",
    "\n",
    "Créer une variable b contenant la valeur 15.\n",
    "\n",
    "Echanger les valeurs de a et de b.\n",
    "\n",
    "À la fin de votre programme, a doit valoir 15 et b doit valoir 12."
   ]
  },
  {
   "cell_type": "code",
   "execution_count": null,
   "metadata": {},
   "outputs": [],
   "source": []
  },
  {
   "cell_type": "markdown",
   "metadata": {},
   "source": [
    "## Question 2\n",
    "\n",
    "Ecrire un code qui affiche 33 fois \"vive la NSI !\""
   ]
  },
  {
   "cell_type": "code",
   "execution_count": null,
   "metadata": {},
   "outputs": [],
   "source": []
  },
  {
   "cell_type": "markdown",
   "metadata": {},
   "source": [
    "## Question 3\n",
    "\n",
    "Ecrire une fonction carre() qui élève au carré le nombre donné en argument\n",
    "\n",
    "Il faut qu'en console, carre(12) renvoie 144."
   ]
  },
  {
   "cell_type": "code",
   "execution_count": null,
   "metadata": {},
   "outputs": [],
   "source": []
  },
  {
   "cell_type": "markdown",
   "metadata": {},
   "source": [
    "## Question 4\n",
    "\n",
    "Le programme doit choisir un nombre aléatoire entre 1 et 100. L'utilisateur doit ensuite essayer de le deviner, aidé par le programme qui lui répond 'trop grand' ou bien 'trop petit' avant de lui dire 'bravo' lorsqu'il a trouvé."
   ]
  },
  {
   "cell_type": "code",
   "execution_count": null,
   "metadata": {},
   "outputs": [],
   "source": []
  }
 ],
 "metadata": {
  "kernelspec": {
   "display_name": "Python 3",
   "language": "python",
   "name": "python3"
  },
  "language_info": {
   "codemirror_mode": {
    "name": "ipython",
    "version": 3
   },
   "file_extension": ".py",
   "mimetype": "text/x-python",
   "name": "python",
   "nbconvert_exporter": "python",
   "pygments_lexer": "ipython3",
   "version": "3.6.8"
  }
 },
 "nbformat": 4,
 "nbformat_minor": 2
}
