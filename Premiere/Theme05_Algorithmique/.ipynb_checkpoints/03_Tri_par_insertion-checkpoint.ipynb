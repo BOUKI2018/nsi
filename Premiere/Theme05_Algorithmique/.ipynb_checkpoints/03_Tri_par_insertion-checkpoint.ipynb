{
 "cells": [
  {
   "cell_type": "markdown",
   "metadata": {},
   "source": [
    "# Algorithmes de tri (1) : tri par insertion "
   ]
  },
  {
   "cell_type": "markdown",
   "metadata": {},
   "source": [
    "## Préambule\n",
    "Pourquoi étudier des algorithmes de tri ?  \n",
    "Autant ne pas le cacher, ces algorithmes sont déjà implémentés (quelque soit le langage) dans des fonctions très performantes.  \n",
    "\n",
    "En Python, on utilise la fonction `sort()`\n"
   ]
  },
  {
   "cell_type": "code",
   "execution_count": 1,
   "metadata": {},
   "outputs": [],
   "source": [
    "tab = [4, 8, 1, 2, 6]\n",
    "tab.sort()"
   ]
  },
  {
   "cell_type": "code",
   "execution_count": 2,
   "metadata": {},
   "outputs": [
    {
     "data": {
      "text/plain": [
       "[1, 2, 4, 6, 8]"
      ]
     },
     "execution_count": 2,
     "metadata": {},
     "output_type": "execute_result"
    }
   ],
   "source": [
    "tab"
   ]
  },
  {
   "cell_type": "markdown",
   "metadata": {},
   "source": [
    "Le meilleur de nos futurs algorithmes de tri sera moins efficace que celui de cette fonction `sort()`...  \n",
    "Malgré cela, il est essentiel de se confronter à l'élaboration manuelle d'un algorithme de tri.  \n",
    "Le tri par insertion est le premier des deux algorithmes de tri que nous allons étudier (nous étudierons aussi le tri par sélection).  \n",
    "Ces deux algorithmes ont pour particularité de :\n",
    "- ne pas nécessiter la création d'une nouvelle liste. Ils modifient la liste à trier sur place.\n",
    "- ne pas faire intervenir de fonctions complexes (comme la recherche d'un minimum par exemple)\n"
   ]
  },
  {
   "cell_type": "markdown",
   "metadata": {},
   "source": [
    "## Tri par insertion (version la plus intuitive)\n",
    "Considérons la liste `[7, 5, 2, 8, 1, 4]`  \n",
    "Voici le fonctionnement de l'algorithme :  \n",
    "![](data/insertion1.gif)"
   ]
  },
  {
   "cell_type": "markdown",
   "metadata": {},
   "source": [
    "**Explications :**\n",
    "- on traite successivement toutes les valeurs à trier, en commençant par celle en deuxième position.\n",
    "- Traitement : tant que la valeur à traiter est inférieure à celle située à sa gauche, on échange ces deux valeurs."
   ]
  },
  {
   "cell_type": "markdown",
   "metadata": {},
   "source": [
    "## Codage de l'algorithme\n",
    "\n",
    "Complétez l'algorithme ci-dessous"
   ]
  },
  {
   "cell_type": "code",
   "execution_count": 16,
   "metadata": {},
   "outputs": [],
   "source": [
    "def tri(l) :\n",
    "    for k in range(..., ...):\n",
    "        i = k\n",
    "        while  i>0 and l[...] > l[...] :\n",
    "            l[...], l[...] = l[...], l[...]\n",
    "            i = i -1"
   ]
  },
  {
   "cell_type": "markdown",
   "metadata": {},
   "source": [
    "*Vérification :*"
   ]
  },
  {
   "cell_type": "code",
   "execution_count": null,
   "metadata": {},
   "outputs": [],
   "source": [
    "a = [7, 5, 2, 8, 1, 4]\n",
    "tri(a)\n",
    "print(a)"
   ]
  },
  {
   "cell_type": "markdown",
   "metadata": {},
   "source": [
    "## Tri par insertion (version optimisée)\n",
    "Observez l'animation ci-dessous et comparer avec la version initiale.  \n",
    "![](data/insertion2.gif)"
   ]
  },
  {
   "cell_type": "markdown",
   "metadata": {},
   "source": [
    "## Codage de l'algorithme\n",
    "\n",
    "Complétez l'algorithme ci-dessous"
   ]
  },
  {
   "cell_type": "code",
   "execution_count": 16,
   "metadata": {},
   "outputs": [],
   "source": [
    "def tri(l) :\n",
    "    for k in range(...,...):\n",
    "        cle = ...\n",
    "        i = ...\n",
    "        while  i>=0 and ... > ... :\n",
    "            l[i+1] = ...\n",
    "            i = i -1\n",
    "        l[i+1] = ..."
   ]
  },
  {
   "cell_type": "markdown",
   "metadata": {},
   "source": [
    "*Vérification :*"
   ]
  },
  {
   "cell_type": "code",
   "execution_count": null,
   "metadata": {},
   "outputs": [],
   "source": [
    "a = [7, 5, 2, 8, 1, 4]\n",
    "tri(a)\n",
    "print(a)"
   ]
  },
  {
   "cell_type": "markdown",
   "metadata": {},
   "source": [
    "## Complexité de l'algorithme\n",
    "\n"
   ]
  },
  {
   "cell_type": "code",
   "execution_count": null,
   "metadata": {},
   "outputs": [],
   "source": []
  },
  {
   "cell_type": "markdown",
   "metadata": {},
   "source": [
    "## Preuve de la terminaison de l'algorithme\n",
    "\n"
   ]
  },
  {
   "cell_type": "code",
   "execution_count": null,
   "metadata": {},
   "outputs": [],
   "source": []
  }
 ],
 "metadata": {
  "kernelspec": {
   "display_name": "Python 3",
   "language": "python",
   "name": "python3"
  },
  "language_info": {
   "codemirror_mode": {
    "name": "ipython",
    "version": 3
   },
   "file_extension": ".py",
   "mimetype": "text/x-python",
   "name": "python",
   "nbconvert_exporter": "python",
   "pygments_lexer": "ipython3",
   "version": "3.6.8"
  },
  "toc": {
   "base_numbering": 1,
   "nav_menu": {},
   "number_sections": false,
   "sideBar": true,
   "skip_h1_title": false,
   "title_cell": "Table of Contents",
   "title_sidebar": "Contents",
   "toc_cell": false,
   "toc_position": {},
   "toc_section_display": true,
   "toc_window_display": true
  }
 },
 "nbformat": 4,
 "nbformat_minor": 2
}
