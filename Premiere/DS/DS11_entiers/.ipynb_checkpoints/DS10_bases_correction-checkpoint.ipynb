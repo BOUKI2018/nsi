{
 "cells": [
  {
   "cell_type": "markdown",
   "metadata": {},
   "source": [
    "# Question 1\n",
    "1. Écrire en binaire le nombre $42_{10}$.\n",
    "2. Écrire en hexadécimal le nombre $42_{10}$.\n",
    "\n",
    "*réponses (faire apparaitre les tableaux de calcul):*"
   ]
  },
  {
   "cell_type": "markdown",
   "metadata": {},
   "source": [
    "1. $42_{10}=32+8+2=101010_2$\n",
    "2. $42_{10}=2 \\times 16 +10 =2A_{16}$\n"
   ]
  },
  {
   "cell_type": "markdown",
   "metadata": {},
   "source": [
    " "
   ]
  },
  {
   "cell_type": "markdown",
   "metadata": {},
   "source": [
    "# Question 2\n",
    "1. Écrire en décimal le nombre $101001_2$.\n",
    "2. Écrire en décimal le nombre $\\rm{F}3_{16}$.\n",
    "\n",
    "*réponses (faire apparaitre les tableaux de calcul):*"
   ]
  },
  {
   "cell_type": "markdown",
   "metadata": {},
   "source": [
    "1. $101001_2=1 \\times 32 + 1 \\times 8 + 1 \\times 1 =41$\n",
    "2. $\\rm{F}3_{16}=15 \\times 16 + 3 \\times 16 = 243$\n",
    "\n",
    "\n",
    "\n",
    "\n"
   ]
  },
  {
   "cell_type": "markdown",
   "metadata": {},
   "source": [
    "# Question 3\n",
    "À quelle couleur correspond le code html `#00ff00` ? *(justifier)*"
   ]
  },
  {
   "cell_type": "markdown",
   "metadata": {},
   "source": [
    "*Réponse :*"
   ]
  },
  {
   "cell_type": "markdown",
   "metadata": {},
   "source": [
    "On sépare les octets par 2, et donc `00ff00` donne  `00` `ff` `00`, soit en décimal 0 255 0. En RGB, cette couleur est donc (0,255,0), ce qui est la couleur verte.\n"
   ]
  },
  {
   "cell_type": "markdown",
   "metadata": {},
   "source": [
    "# Question 4\n",
    "La fonction `restes_successifs(n)` ci-dessous renvoie les restes de la division euclidienne d'un nombre `n` par 2, afin d'obtenir ensuite son écriture binaire (en remontant à l'envers la liste des restes). Complétez les __ de ce code.\n"
   ]
  },
  {
   "cell_type": "code",
   "execution_count": null,
   "metadata": {},
   "outputs": [],
   "source": [
    "def restes_successifs(n):\n",
    "    restes = []\n",
    "    while n ___ 0 :\n",
    "        restes.append(___)\n",
    "        n = ____\n",
    "    return restes"
   ]
  },
  {
   "cell_type": "markdown",
   "metadata": {},
   "source": [
    "*réponse :*"
   ]
  },
  {
   "cell_type": "code",
   "execution_count": 6,
   "metadata": {},
   "outputs": [],
   "source": [
    "def restes_successifs(n):\n",
    "    restes = []\n",
    "    while n != 0 :\n",
    "        restes.append(n % 2)\n",
    "        n = n // 2\n",
    "    return restes"
   ]
  },
  {
   "cell_type": "code",
   "execution_count": 9,
   "metadata": {},
   "outputs": [
    {
     "data": {
      "text/plain": [
       "[0, 1, 0, 1, 0, 1]"
      ]
     },
     "execution_count": 9,
     "metadata": {},
     "output_type": "execute_result"
    }
   ],
   "source": [
    "restes_successifs(42)"
   ]
  },
  {
   "cell_type": "code",
   "execution_count": null,
   "metadata": {},
   "outputs": [],
   "source": []
  }
 ],
 "metadata": {
  "kernelspec": {
   "display_name": "Python 3",
   "language": "python",
   "name": "python3"
  },
  "language_info": {
   "codemirror_mode": {
    "name": "ipython",
    "version": 3
   },
   "file_extension": ".py",
   "mimetype": "text/x-python",
   "name": "python",
   "nbconvert_exporter": "python",
   "pygments_lexer": "ipython3",
   "version": "3.6.8"
  },
  "toc": {
   "base_numbering": 1,
   "nav_menu": {},
   "number_sections": false,
   "sideBar": true,
   "skip_h1_title": false,
   "title_cell": "Table of Contents",
   "title_sidebar": "Contents",
   "toc_cell": false,
   "toc_position": {
    "height": "calc(100% - 180px)",
    "left": "10px",
    "top": "150px",
    "width": "728.333px"
   },
   "toc_section_display": true,
   "toc_window_display": false
  }
 },
 "nbformat": 4,
 "nbformat_minor": 2
}
