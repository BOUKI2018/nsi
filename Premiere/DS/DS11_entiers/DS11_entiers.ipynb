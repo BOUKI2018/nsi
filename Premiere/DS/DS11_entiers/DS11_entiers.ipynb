{
 "cells": [
  {
   "cell_type": "markdown",
   "metadata": {
    "solution2": "shown",
    "solution2_first": true
   },
   "source": [
    "# Question 1\n",
    "En codage binaire **non signé** sur un octet, écrire la représentation de l'entier 23.\n"
   ]
  },
  {
   "cell_type": "markdown",
   "metadata": {
    "solution2": "shown"
   },
   "source": [
    "*réponse :*  \n",
    "$23=16+4+2+1$ donc \n",
    "$23_{10}=00010111_2$"
   ]
  },
  {
   "cell_type": "markdown",
   "metadata": {
    "solution2": "hidden",
    "solution2_first": true
   },
   "source": [
    "__________\n",
    "# Question 2\n",
    "En codage binaire **signé** sur un octet, donner la représentation du plus grand entier positif qu'on puisse écrire.\n"
   ]
  },
  {
   "cell_type": "markdown",
   "metadata": {
    "solution2": "hidden"
   },
   "source": [
    "*réponse:*  \n",
    "Le plus grand entier signé sur un octet est  `01111111` (et il vaut 127)."
   ]
  },
  {
   "cell_type": "markdown",
   "metadata": {
    "solution2": "hidden",
    "solution2_first": true
   },
   "source": [
    "# Question 3\n",
    "En codage binaire **signé** sur un octet, donner la représentation du nombre $-13$."
   ]
  },
  {
   "cell_type": "markdown",
   "metadata": {
    "solution2": "hidden"
   },
   "source": [
    "*Réponse :*  \n",
    "Commençons par écrire le nombre 13 en binaire. Il s'écrit  `00001101`.\n",
    "- en prenant le complément à 2 de chaque bit, on obtient `11110010`.\n",
    "- en ajoutant 1 à ce dernier nombre, on obtient `11110011`. \n",
    "\n",
    "Le nombre $-13$ s'écrit donc `11110011`."
   ]
  },
  {
   "cell_type": "markdown",
   "metadata": {
    "solution2": "hidden",
    "solution2_first": true
   },
   "source": [
    "# Question 4\n",
    "En codage binaire **signé** sur un octet, à quel nombre correspond `11110001` ?\n"
   ]
  },
  {
   "cell_type": "markdown",
   "metadata": {
    "solution2": "hidden"
   },
   "source": [
    "*réponse :*  \n",
    "`11110001` - `1` = `11110000`. En prenant le complément à 2, on trouve `00001111`, qui vaut 15. Le nombre `11110001` représente donc $-15$."
   ]
  }
 ],
 "metadata": {
  "kernelspec": {
   "display_name": "Python 3",
   "language": "python",
   "name": "python3"
  },
  "language_info": {
   "codemirror_mode": {
    "name": "ipython",
    "version": 3
   },
   "file_extension": ".py",
   "mimetype": "text/x-python",
   "name": "python",
   "nbconvert_exporter": "python",
   "pygments_lexer": "ipython3",
   "version": "3.6.8"
  },
  "toc": {
   "base_numbering": 1,
   "nav_menu": {},
   "number_sections": false,
   "sideBar": true,
   "skip_h1_title": false,
   "title_cell": "Table of Contents",
   "title_sidebar": "Contents",
   "toc_cell": false,
   "toc_position": {
    "height": "calc(100% - 180px)",
    "left": "10px",
    "top": "150px",
    "width": "728.333px"
   },
   "toc_section_display": true,
   "toc_window_display": false
  }
 },
 "nbformat": 4,
 "nbformat_minor": 2
}
