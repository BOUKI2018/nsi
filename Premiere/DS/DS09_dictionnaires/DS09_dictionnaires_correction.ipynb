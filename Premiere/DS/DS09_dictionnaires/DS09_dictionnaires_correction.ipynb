{
 "cells": [
  {
   "cell_type": "markdown",
   "metadata": {},
   "source": [
    "# Question 1\n",
    "J'ai dans ma trousse 3 stylos, 2 gommes et 1 effaceur. Créer un dictionnaire `matrousse` qui contient les éléments de ma trousse."
   ]
  },
  {
   "cell_type": "code",
   "execution_count": 1,
   "metadata": {},
   "outputs": [],
   "source": [
    "matrousse = {\"stylos\" : 3, \"gommes\" : 2, \"effaceur\" : 1}"
   ]
  },
  {
   "cell_type": "markdown",
   "metadata": {},
   "source": [
    " "
   ]
  },
  {
   "cell_type": "markdown",
   "metadata": {},
   "source": [
    "# Question 2\n",
    "Écrire ce que contient le dictionnaire `couleurs` après exécution des lignes ci-dessous."
   ]
  },
  {
   "cell_type": "code",
   "execution_count": 3,
   "metadata": {
    "scrolled": true
   },
   "outputs": [],
   "source": [
    "couleurs = {\"bleu\" : (0,0,255), \"rose\" : (255,0,127), \"jaune\" : (255,255,0)}\n",
    "couleurs['gris'] = (64,64,64)\n",
    "del couleurs['jaune']\n",
    "couleurs['rose'] = (255,0,50)\n"
   ]
  },
  {
   "cell_type": "markdown",
   "metadata": {},
   "source": [
    "*Réponse :*"
   ]
  },
  {
   "cell_type": "code",
   "execution_count": 4,
   "metadata": {},
   "outputs": [
    {
     "data": {
      "text/plain": [
       "{'bleu': (0, 0, 255), 'rose': (255, 0, 50), 'gris': (64, 64, 64)}"
      ]
     },
     "execution_count": 4,
     "metadata": {},
     "output_type": "execute_result"
    }
   ],
   "source": [
    "couleurs"
   ]
  },
  {
   "cell_type": "markdown",
   "metadata": {},
   "source": [
    "# Question 3\n",
    "On garde le dictionnaire `couleurs` définir ci-dessus. Écrire la boucle `for` permettant de lister toutes les couleurs disponibles. \n"
   ]
  },
  {
   "cell_type": "code",
   "execution_count": 9,
   "metadata": {},
   "outputs": [
    {
     "name": "stdout",
     "output_type": "stream",
     "text": [
      "bleu\n",
      "rose\n",
      "gris\n"
     ]
    }
   ],
   "source": [
    "for k in couleurs :\n",
    "    print(k)\n",
    "\n",
    "# ou bien\n",
    "\n",
    "for k in couleurs.keys() :\n",
    "    print(k)"
   ]
  },
  {
   "cell_type": "markdown",
   "metadata": {},
   "source": [
    "# Question 4\n",
    "On garde le dictionnaire `couleurs` défini ci-dessus. Écrire la boucle `for` permettant de lister toutes les tuples (R,G,B) disponibles. \n"
   ]
  },
  {
   "cell_type": "code",
   "execution_count": 10,
   "metadata": {},
   "outputs": [
    {
     "name": "stdout",
     "output_type": "stream",
     "text": [
      "(0, 0, 255)\n",
      "(255, 0, 50)\n",
      "(64, 64, 64)\n"
     ]
    }
   ],
   "source": [
    "for k in couleurs.values() :\n",
    "    print(k)\n"
   ]
  }
 ],
 "metadata": {
  "kernelspec": {
   "display_name": "Python 3",
   "language": "python",
   "name": "python3"
  },
  "language_info": {
   "codemirror_mode": {
    "name": "ipython",
    "version": 3
   },
   "file_extension": ".py",
   "mimetype": "text/x-python",
   "name": "python",
   "nbconvert_exporter": "python",
   "pygments_lexer": "ipython3",
   "version": "3.6.8"
  },
  "toc": {
   "base_numbering": 1,
   "nav_menu": {},
   "number_sections": false,
   "sideBar": true,
   "skip_h1_title": false,
   "title_cell": "Table of Contents",
   "title_sidebar": "Contents",
   "toc_cell": false,
   "toc_position": {
    "height": "calc(100% - 180px)",
    "left": "10px",
    "top": "150px",
    "width": "728.333px"
   },
   "toc_section_display": true,
   "toc_window_display": false
  }
 },
 "nbformat": 4,
 "nbformat_minor": 2
}
