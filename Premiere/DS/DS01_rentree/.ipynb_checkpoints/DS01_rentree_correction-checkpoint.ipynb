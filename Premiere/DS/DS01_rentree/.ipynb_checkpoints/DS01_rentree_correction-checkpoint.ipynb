{
 "cells": [
  {
   "cell_type": "markdown",
   "metadata": {},
   "source": [
    "## Question 1\n",
    "\n",
    "Créer une variable a contenant la valeur 12.\n",
    "\n",
    "Créer une variable b contenant la valeur 15.\n",
    "\n",
    "Echanger les valeurs de a et de b.\n",
    "\n",
    "À la fin de votre programme, a doit valoir 15 et b doit valoir 12."
   ]
  },
  {
   "cell_type": "code",
   "execution_count": null,
   "metadata": {},
   "outputs": [],
   "source": [
    "a = 12\n",
    "b = 15\n",
    "c = a\n",
    "a = b\n",
    "b = c"
   ]
  },
  {
   "cell_type": "markdown",
   "metadata": {},
   "source": [
    "## Question 2\n",
    "\n",
    "Ecrire un code qui affiche 33 fois \"vive la NSI !\""
   ]
  },
  {
   "cell_type": "code",
   "execution_count": null,
   "metadata": {},
   "outputs": [],
   "source": [
    "for k in range(33):\n",
    "    print(\"vive la NSI !\")"
   ]
  },
  {
   "cell_type": "markdown",
   "metadata": {},
   "source": [
    "## Question 3\n",
    "\n",
    "Ecrire une fonction carre() qui élève au carré le nombre donné en argument\n",
    "\n",
    "Il faut qu'en console, carre(12) renvoie 144."
   ]
  },
  {
   "cell_type": "code",
   "execution_count": null,
   "metadata": {},
   "outputs": [],
   "source": [
    "def carre(n):\n",
    "    return n**2"
   ]
  },
  {
   "cell_type": "markdown",
   "metadata": {},
   "source": [
    "## Question 4\n",
    "\n",
    "Le programme doit choisir un nombre aléatoire entre 1 et 100. L'utilisateur doit ensuite essayer de le deviner, aidé par le programme qui lui répond 'trop grand' ou bien 'trop petit' avant de lui dire 'bravo' lorsqu'il a trouvé."
   ]
  },
  {
   "cell_type": "code",
   "execution_count": null,
   "metadata": {},
   "outputs": [],
   "source": [
    "from random import randint\n",
    "mystere = randint(1,100)\n",
    "\n",
    "n = -1\n",
    "\n",
    "while n != mystere :\n",
    "    n = int(input(\"proposition ? \"))\n",
    "    if n > mystere :\n",
    "        print(\"trop grand\")\n",
    "    elif n < mystere :\n",
    "        print(\"trop petit\")\n",
    "print(\"bravo\")"
   ]
  },
  {
   "cell_type": "code",
   "execution_count": null,
   "metadata": {},
   "outputs": [],
   "source": []
  }
 ],
 "metadata": {
  "kernelspec": {
   "display_name": "Python 3",
   "language": "python",
   "name": "python3"
  },
  "language_info": {
   "codemirror_mode": {
    "name": "ipython",
    "version": 3
   },
   "file_extension": ".py",
   "mimetype": "text/x-python",
   "name": "python",
   "nbconvert_exporter": "python",
   "pygments_lexer": "ipython3",
   "version": "3.6.8"
  },
  "toc": {
   "base_numbering": 1,
   "nav_menu": {},
   "number_sections": true,
   "sideBar": true,
   "skip_h1_title": false,
   "title_cell": "Table of Contents",
   "title_sidebar": "Contents",
   "toc_cell": false,
   "toc_position": {},
   "toc_section_display": true,
   "toc_window_display": false
  }
 },
 "nbformat": 4,
 "nbformat_minor": 2
}
