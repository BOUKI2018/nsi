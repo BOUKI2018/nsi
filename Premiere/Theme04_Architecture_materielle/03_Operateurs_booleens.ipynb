{
 "cells": [
  {
   "cell_type": "markdown",
   "metadata": {},
   "source": [
    "# Les opérateurs booléens\n",
    "\n",
    "\n",
    "### Repères historiques\n",
    "\n",
    "![](data/portrait_boole.jpg)\n",
    "\n",
    "En 1847, le  britannique  *George BOOLE*  inventa un formalisme permettant d'écrire des raisonnements logiques : l'algèbre de Boole. \n",
    "\n",
    "En  1938,  l'américain *Claude  SHANNON*  prouva  que des  circuits  électriques\n",
    "peuvent  résoudre tous  les  problèmes  que l'algèbre  de  Boole peut  elle-même\n",
    "résoudre.  Avec  les  travaux  d'*Alan  TURING*  de  1936,  cela  constitue  les\n",
    "fondements de ce qui deviendra l'informatique."
   ]
  },
  {
   "cell_type": "markdown",
   "metadata": {},
   "source": [
    "# Algèbre de Boole\n",
    "\n",
    "L'algèbre de Boole définit des opérations dans un ensemble\n",
    "qui ne contient que **deux éléments** notés **0 et 1**, ou bien **FAUX et VRAI** ,ou encore **False** et **True** (en Python)\n",
    "\n",
    "Les opérations fondamentales sont :\n",
    "- la *conjonction* (\"ET\") \n",
    "- la *disjonction* (\"OU\") \n",
    "- la *négation* (\"NON\").\n",
    "\n",
    "Dans  toute la  suite,  `x` et  `y` désigneront  des  *Booléens* (éléments  d'une\n",
    "algèbre de Boole) quelconques, `F` désignera FAUX et `V` désignera VRAI."
   ]
  },
  {
   "cell_type": "markdown",
   "metadata": {},
   "source": [
    "____________"
   ]
  },
  {
   "cell_type": "markdown",
   "metadata": {},
   "source": [
    "## Conjonction (AND)\n",
    "- symbole usuel : &\n",
    "- français : ET\n",
    "- anglais (et Python) : `and`\n",
    "- notation logique : $\\wedge$\n",
    "- notation mathémtique :  `.`\n",
    "\n",
    "C'est l'opération définie par:\n",
    "\n",
    "* `x & F = F`\n",
    "* `x & V = x`"
   ]
  },
  {
   "cell_type": "markdown",
   "metadata": {},
   "source": [
    "Puisque l'algèbre de  Boole ne contient que deux éléments,  on peut étudier tous\n",
    "les cas possibles et les regrouper dans un tableau appelé **table de vérité**:\n",
    "\n",
    "\n",
    "|`x`| `y` | `x & y`|\n",
    "|:--:|:-:|:--:|\n",
    "|F|F|F|\n",
    "|F|V|F|\n",
    "|V|F|F|\n",
    "|V|V|V|\n",
    "\n",
    "\n",
    "On représente souvent les opérateurs booléens à l'aide de portes logiques:\n",
    "![](data/porte_et.png)\n",
    "\n",
    "Notation usuelle en électronique : $Q=A \\wedge B$\n",
    "![](data/and.png)\n"
   ]
  },
  {
   "cell_type": "markdown",
   "metadata": {},
   "source": [
    "### Exemples en Python"
   ]
  },
  {
   "cell_type": "code",
   "execution_count": 3,
   "metadata": {},
   "outputs": [],
   "source": [
    "n = 20"
   ]
  },
  {
   "cell_type": "code",
   "execution_count": 2,
   "metadata": {},
   "outputs": [
    {
     "data": {
      "text/plain": [
       "False"
      ]
     },
     "execution_count": 2,
     "metadata": {},
     "output_type": "execute_result"
    }
   ],
   "source": [
    "(n % 10 == 0) and (n % 7 == 0)"
   ]
  },
  {
   "cell_type": "code",
   "execution_count": 4,
   "metadata": {},
   "outputs": [
    {
     "data": {
      "text/plain": [
       "True"
      ]
     },
     "execution_count": 4,
     "metadata": {},
     "output_type": "execute_result"
    }
   ],
   "source": [
    "(n % 4 == 0) and (n % 5 == 0)"
   ]
  },
  {
   "cell_type": "markdown",
   "metadata": {},
   "source": [
    "____________"
   ]
  },
  {
   "cell_type": "markdown",
   "metadata": {},
   "source": [
    "## Disjonction (OR)\n",
    "\n",
    "- symbole usuel : |\n",
    "- français : OU\n",
    "- anglais (et Python) : `or`\n",
    "- notation logique : $\\vee$\n",
    "- notation mathématique :  $\\times$\n",
    "\n",
    "C'est l'opération définie par:\n",
    "\n",
    "\n",
    "C'est l'opération définie par:\n",
    "\n",
    "* `x | V = V`\n",
    "* `x | F = x`\n",
    "\n",
    "On en déduit la table suivante:\n",
    "\n",
    "\n",
    "\n",
    "|`x`| `y` | `x \\| y`|\n",
    "|:--:|:----:|:--:|\n",
    "|F|F| F|\n",
    "|F|V|V|\n",
    "|V|F|V|\n",
    "|V|V|V|\n",
    "\n",
    "\n",
    "\n",
    "![](data/porte_ou.png)\n",
    "\n",
    "Notation usuelle en électronique : $Q=A \\vee B$\n",
    "\n",
    "![](data/or.png)\n"
   ]
  },
  {
   "cell_type": "markdown",
   "metadata": {},
   "source": [
    "### Exemples en Python"
   ]
  },
  {
   "cell_type": "code",
   "execution_count": 3,
   "metadata": {},
   "outputs": [],
   "source": [
    "n = 20"
   ]
  },
  {
   "cell_type": "code",
   "execution_count": 5,
   "metadata": {},
   "outputs": [
    {
     "data": {
      "text/plain": [
       "True"
      ]
     },
     "execution_count": 5,
     "metadata": {},
     "output_type": "execute_result"
    }
   ],
   "source": [
    "(n % 10 == 0) or (n % 7 == 0)"
   ]
  },
  {
   "cell_type": "code",
   "execution_count": 6,
   "metadata": {},
   "outputs": [
    {
     "data": {
      "text/plain": [
       "True"
      ]
     },
     "execution_count": 6,
     "metadata": {},
     "output_type": "execute_result"
    }
   ],
   "source": [
    "(n % 4 == 0) or (n % 5 == 0)"
   ]
  },
  {
   "cell_type": "code",
   "execution_count": 7,
   "metadata": {},
   "outputs": [
    {
     "data": {
      "text/plain": [
       "False"
      ]
     },
     "execution_count": 7,
     "metadata": {},
     "output_type": "execute_result"
    }
   ],
   "source": [
    "(n % 7 == 0) or (n % 3 == 0)"
   ]
  },
  {
   "cell_type": "markdown",
   "metadata": {},
   "source": [
    "## Négation (NOT)\n",
    "\n",
    "- symbole usuel : ~\n",
    "- français : NON\n",
    "- anglais (et Python) : `not`\n",
    "- notation logique :  $\\neg$\n",
    "- notation mathématique :  $\\overline{x}$\n",
    "\n",
    "C'est l'opération définie par:\n",
    "\n",
    "* `~V = F`\n",
    "* `~F = V`\n",
    "\n",
    "On en déduit la table suivante:\n",
    "\n",
    "\n",
    "|`x`| `~x` |\n",
    "|:--:|:----:|\n",
    "|F|V|\n",
    "|V|F|\n",
    "\n",
    "![](data/porte_non.png)\n",
    "\n",
    "Notation usuelle en électronique : $Q=\\neg A$\n",
    "\n",
    "![](data/no.png)"
   ]
  },
  {
   "cell_type": "markdown",
   "metadata": {},
   "source": [
    "### Exemples en Python"
   ]
  },
  {
   "cell_type": "code",
   "execution_count": 3,
   "metadata": {},
   "outputs": [],
   "source": [
    "n = 20"
   ]
  },
  {
   "cell_type": "code",
   "execution_count": 8,
   "metadata": {},
   "outputs": [
    {
     "data": {
      "text/plain": [
       "False"
      ]
     },
     "execution_count": 8,
     "metadata": {},
     "output_type": "execute_result"
    }
   ],
   "source": [
    "not(n % 10 == 0)"
   ]
  },
  {
   "cell_type": "markdown",
   "metadata": {},
   "source": [
    "## Exercice 1\n",
    "\n",
    "Comprendre [ce mème](https://www.reddit.com/r/engineeringmemes/comments/897mu2/logic_gates_drake_version/).\n",
    "\n",
    "\n",
    "## Exercice 2\n",
    "Ouvrir le [simulateur de circuits](http://dept-info.labri.fr/ENSEIGNEMENT/archi/circuits/blank-teacher.html) et créer pour chaque opération AND, OR, NOT un circuit électrique illustrant ses propriétés.\n",
    "\n",
    "Exemple (inintéressant) de circuit :\n",
    "![](data/ex_circuit.png)"
   ]
  },
  {
   "cell_type": "markdown",
   "metadata": {},
   "source": [
    "# Lois associées aux opérateurs logiques\n",
    "\n",
    "Les lois suivantes sont facilement démontrables à l'aide de tables de vérités: *(source : G.Connan)*\n",
    "\n",
    "![](data/lois.png)"
   ]
  },
  {
   "cell_type": "markdown",
   "metadata": {},
   "source": [
    "Toutes ces lois sont aisément compréhensibles si on les transpose en mathématiques : \n",
    "- & équivaut à $\\times$\n",
    "- $|$ équivaut à $+$\n",
    "- $\\neg$ équivaut à $-$"
   ]
  },
  {
   "cell_type": "markdown",
   "metadata": {},
   "source": [
    "## Exercice 3\n",
    "Transposer toutes les propriétés ci-dessus dans le langage mathématique."
   ]
  },
  {
   "cell_type": "markdown",
   "metadata": {},
   "source": [
    "# Fonctions composées\n",
    "\n",
    "## Disjonction exclusive XOR\n",
    "(en français OU EXCLUSIF)\n",
    "\n",
    "`x ^ y = (x & ~y) | (~x & y)`\n",
    "\n",
    "\n",
    "|`x`| `y` | `x ^ y`|\n",
    "|:--:|:----:|:--:|\n",
    "|F|F| F|\n",
    "|F|V|V|\n",
    "|V|F|V|\n",
    "|V|V|F|\n",
    "\n",
    "\n",
    "\n",
    "![](data/porte_xor.png)"
   ]
  },
  {
   "cell_type": "markdown",
   "metadata": {},
   "source": [
    "Il est temps de se reposer et d'admirer cette animation :\n",
    "![](data/watergates.gif)"
   ]
  },
  {
   "cell_type": "markdown",
   "metadata": {},
   "source": [
    "Le XOR joue un rôle fondamental en cryptographie car il possède une propriété très intéressante : \n",
    "$(x\\wedge y)\\wedge y=x$\n",
    "\n",
    "Si $x$ est un message et $y$ une clé de chiffrage, alors $x\\wedge y$ est le message chiffré. \n",
    "Mais en refaisant un XOR du message chiffré avec la clé $y$, on retrouve donc le message $x$ initial."
   ]
  },
  {
   "cell_type": "markdown",
   "metadata": {},
   "source": [
    "## Exercice 4\n",
    "Calculer les opérations suivantes."
   ]
  },
  {
   "cell_type": "code",
   "execution_count": null,
   "metadata": {},
   "outputs": [],
   "source": [
    "   1011011\n",
    "&  1010101\n",
    "----------\n",
    "   \n",
    "\n",
    "   1011011\n",
    "|  1010101\n",
    "----------\n",
    "   \n",
    "\n",
    "   1011011\n",
    "^  1010101\n",
    "----------\n",
    "   "
   ]
  },
  {
   "cell_type": "markdown",
   "metadata": {
    "solution2": "hidden",
    "solution2_first": true
   },
   "source": [
    "*solution*"
   ]
  },
  {
   "cell_type": "code",
   "execution_count": null,
   "metadata": {
    "solution2": "hidden"
   },
   "outputs": [],
   "source": [
    "   1011011\n",
    "&  1010101\n",
    "----------\n",
    "   1010001\n",
    "   \n",
    "   1011011\n",
    "|  1010101\n",
    "----------\n",
    "   1011111\n",
    "   \n",
    "   1011011\n",
    "^  1010101\n",
    "----------\n",
    "   0001110"
   ]
  },
  {
   "cell_type": "markdown",
   "metadata": {},
   "source": [
    "### Exercice 5 :\n",
    "Résolvez le pydéfi [la clé endommagée](https://callicode.fr/pydefis/MasqueJetable/txt)"
   ]
  },
  {
   "cell_type": "markdown",
   "metadata": {
    "solution2": "hidden",
    "solution2_first": true
   },
   "source": [
    "*solution :*"
   ]
  },
  {
   "cell_type": "code",
   "execution_count": null,
   "metadata": {
    "solution2": "hidden"
   },
   "outputs": [],
   "source": [
    "msg = [255, 87, 255, 93, 254, 112, 98, 239, 146, 205, 59, 198, 173, 65, 50, 174, 200, 218, 189, 130, 96, 4, 57, 173, 143, 8, 175, 19, 2, 109, 216, 2, 65, 14, 36, 206, 32, 157, 181, 22, 248, 119, 153, 204, 8, 137, 7, 203, 0, 89, 251, 16, 79, 214, 52, 15, 249, 42, 115, 67, 241, 175, 160, 65, 217, 40, 36, 68, 205, 234, 14, 21, 73, 172, 70, 81, 37, 83, 1, 113, 180, 8, 194, 90, 46, 239, 194, 122, 244, 15, 24, 14, 86, 72, 43, 246, 241, 24, 182, 91, 220, 48, 92, 147, 16, 82, 139, 169, 104, 236, 88, 106, 192, 76, 23, 72, 233, 130, 92, 67, 235, 199, 149, 108, 180, 217, 156, 175, 175, 234, 177, 145, 242, 17, 245, 94, 113, 16, 88, 170, 71, 226, 13, 122, 189, 56, 44, 48, 185, 159, 73, 160, 84, 147, 231, 21, 86, 81, 238, 196, 137, 133, 222, 174, 208, 9, 105, 83, 80, 60, 49, 191, 19, 220, 231, 196, 172, 10, 72, 237, 211, 163, 23, 119, 247, 37, 177, 3, 246, 136, 82, 222, 93, 245, 202, 24, 164, 177, 167, 174, 203, 247, 101, 201, 32, 99, 83, 189, 241, 46, 208, 125, 167, 111, 217, 84, 120, 5, 158, 50, 180, 129, 202, 116, 149, 226, 195, 6, 56, 221, 54, 1, 233, 119, 186, 113, 87, 194, 240, 244, 29, 195, 251, 186, 54, 175, 66, 8, 193, 189, 143, 151, 101, 153, 25, 100, 151, 75, 71, 176, 55, 183, 66, 28, 119, 90, 142, 60, 100, 170, 46, 231, 149, 131, 139, 249, 247, 209, 60, 206, 40, 121, 175, 78, 246, 189, 88, 33, 46, 147, 11, 30, 65, 208, 131, 163, 37, 44, 77, 220, 148, 101, 101, 167, 34, 68, 179, 117, 200, 234, 91, 170, 134, 203, 240, 164, 71, 220, 122, 77, 249, 76, 39, 145, 217, 151, 36, 96, 249, 61, 105, 52, 59, 231, 86, 166, 88, 42, 134, 182, 74, 166, 106, 36, 194, 160, 92, 69, 84, 74, 15, 217, 189, 28, 89, 41, 212, 60, 49, 30, 225, 95, 196, 36, 199, 0, 126, 127, 251, 23, 76, 182, 66, 213, 119, 28, 187, 173, 239, 27, 97, 196, 17, 95, 124, 4, 95, 222, 191, 238, 152, 142, 208, 122, 139, 135, 12, 212, 96, 4, 126, 210, 7, 71, 225, 202, 106, 79, 206, 156, 216, 22, 163, 159, 49, 248, 120, 100, 2, 88, 41, 145, 234, 38, 196, 189, 77, 247, 71, 172, 109, 215, 134, 37, 145, 236, 6, 198, 217, 89, 94, 98, 158, 165, 99, 17, 99, 246, 90, 161, 76, 159, 194, 75, 208, 234, 18, 51, 205, 227, 167, 199, 1, 128, 68, 112, 25, 10, 66, 202, 255, 243, 163, 16, 3, 72, 43, 143, 76, 241, 108, 239, 216, 30, 236, 224, 7, 1, 222, 6, 244, 70, 151, 110, 175, 49, 153, 253, 241, 160, 117, 232, 42, 68, 77, 253, 64, 142, 11, 88, 234, 251, 20, 1, 239, 39, 157, 181, 106, 47, 180, 26, 227, 121, 164, 183, 124, 180, 238, 42, 89, 75, 19, 244, 245, 116, 82, 124, 85, 12, 7, 22, 1, 25, 118, 126, 36, 209, 22, 226, 252, 6, 72, 26, 101, 127, 23, 124, 151, 185, 184, 203, 231, 56, 26, 128, 110, 216, 94, 202, 174, 211, 210, 125, 145, 220, 185, 43, 204, 215, 210, 224, 54, 111, 217, 202, 47, 31, 224, 46, 177, 165, 31, 68, 127, 206, 99, 11, 213, 192, 46, 222, 34, 115, 16, 73, 131, 221, 218, 180, 4, 249, 207, 74, 155, 84, 87, 242, 58, 133, 248, 61, 205, 9, 158, 226, 21, 216, 80, 154, 153, 79, 98, 105, 190, 56, 134, 187, 37, 10, 224, 82, 97, 126, 246, 24, 190, 173, 21, 62, 236, 10, 180, 242, 144, 244, 145, 117, 67, 62, 246, 57, 96, 192, 92, 126, 27, 67, 168, 223, 222, 247, 236, 224, 240, 243, 100, 150, 193, 79, 223, 143, 208, 133, 125, 80, 107, 106, 245, 118, 248, 79, 199, 116, 190, 54, 236, 81, 106, 244, 212, 241, 16, 179, 245, 238, 185, 89, 199, 175, 54, 218, 86, 84, 184, 177, 174, 92, 171, 176, 43, 149, 46, 202, 151, 181, 98, 86, 18, 58, 46, 163, 117, 33, 149, 87, 248, 235, 0, 181, 136, 16, 188, 110, 20, 108, 213, 104, 165, 45, 86, 19, 208, 48, 153, 186, 163, 221, 165, 39, 70, 200, 98, 235, 68, 167, 252, 42, 102, 52, 228, 210, 187, 151, 178, 242, 221, 44, 143, 79, 230, 159, 164, 253, 25, 90, 24, 182, 142, 122, 140, 115, 45, 182, 104, 132, 22, 109, 55, 205, 185, 27, 27, 77, 224, 184, 199, 121, 21, 250, 254, 78, 158, 215, 245, 187, 143, 211, 110, 228, 18, 36, 68, 168, 100, 126, 85, 238, 208, 98, 241, 34, 235, 254, 184, 39, 182, 239, 34, 242, 232, 6, 187, 18, 113, 176, 228, 2, 103, 135, 52, 28, 183, 9, 19, 142, 156, 242, 21, 253, 48, 21, 67, 138, 207, 131, 72, 191, 198, 107, 233, 202, 227, 108, 186, 124, 165, 23, 247]\n",
    "cle = [111, 22, 12, 177, 12, 199, 78, 21, 175, 181, 64, 73, 174, 101, 212, 225, 63, 106, 248, 91, 175, 48, 247, 245, 51, 250, 160, 111, 23, 4, 70, 167, 177, 49, 17, 53, 17, 73, 85, 89]\n",
    "\n",
    "def decrypt(dec):\n",
    "    l = \"\"\n",
    "    for i in range(len(cle)):\n",
    "        c = msg[i+dec]^cle[i]\n",
    "        l = l + chr(c)\n",
    "    return l\n",
    "\n",
    "for i in range(0, len(msg)-len(cle)):\n",
    "    print(decrypt(i))"
   ]
  },
  {
   "cell_type": "markdown",
   "metadata": {},
   "source": [
    "# Autres fonctions\n",
    "\n",
    "## Non Et (NAND)\n",
    "\n",
    "`x ↑ y = ~(x & y)`\n",
    "\n",
    "\n",
    "|`x`| `y` | `x ↑ y`|\n",
    "|:--:|:----:|:--:|\n",
    "|F|F| V|\n",
    "|F|V|V|\n",
    "|V|F|V|\n",
    "|V|V|F|\n",
    "\n",
    "\n",
    "\n",
    "![](data/porte_nand.png)"
   ]
  },
  {
   "cell_type": "markdown",
   "metadata": {},
   "source": [
    "## Non Ou (NOR)\n",
    "\n",
    "\n",
    "`x ↓ y = ~(x & y)`\n",
    "\n",
    "\n",
    "|`x`| `y` | `x ↓ y`|\n",
    "|:--:|:----:|:--:|\n",
    "|F|F| V|\n",
    "|F|V|F|\n",
    "|V|F|F|\n",
    "|V|V|F|\n",
    "\n",
    "\n",
    "\n",
    "![](data/porte_nor.png)"
   ]
  },
  {
   "cell_type": "markdown",
   "metadata": {},
   "source": [
    "## Remarque :\n",
    "Les fonctions NAND ET NOR sont dites **universelles** : chacune d'entre elles peut générer l'intégralité des autres portes logiques. Il est donc possible de coder toutes les opérations uniquement avec des NAND (ou uniquement avec des NOR).\n",
    "Voir [Wikipedia](https://fr.wikipedia.org/wiki/Fonction_NON-ET)"
   ]
  },
  {
   "cell_type": "code",
   "execution_count": null,
   "metadata": {},
   "outputs": [],
   "source": []
  }
 ],
 "metadata": {
  "kernelspec": {
   "display_name": "Python 3",
   "language": "python",
   "name": "python3"
  },
  "language_info": {
   "codemirror_mode": {
    "name": "ipython",
    "version": 3
   },
   "file_extension": ".py",
   "mimetype": "text/x-python",
   "name": "python",
   "nbconvert_exporter": "python",
   "pygments_lexer": "ipython3",
   "version": "3.6.8"
  },
  "toc": {
   "base_numbering": 1,
   "nav_menu": {},
   "number_sections": false,
   "sideBar": true,
   "skip_h1_title": false,
   "title_cell": "Table of Contents",
   "title_sidebar": "Contents",
   "toc_cell": false,
   "toc_position": {},
   "toc_section_display": true,
   "toc_window_display": false
  }
 },
 "nbformat": 4,
 "nbformat_minor": 2
}
