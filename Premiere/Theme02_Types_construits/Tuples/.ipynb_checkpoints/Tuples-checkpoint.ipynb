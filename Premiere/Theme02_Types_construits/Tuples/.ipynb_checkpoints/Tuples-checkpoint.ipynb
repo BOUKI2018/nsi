{
 "cells": [
  {
   "cell_type": "markdown",
   "metadata": {},
   "source": [
    "# Définition des tuples\n",
    "Les tuples (appelés *p-uplets* dans le programme officiel de NSI) une collection d'objets **ordonnée** mais **NON MODIFIABLE**.  \n",
    "Pour rappel :\n",
    "- **chaine de caractères** : ordonnée et non modifiable\n",
    "- **liste** : ordonnée et modifiable\n",
    "- **tuple** : ordonnée et non modifiable \n",
    "\n",
    "\n",
    "Quel peut être l'intérêt d'un tuple par rapport à une liste ?\n",
    "- Justement son caractère protégé : jamais une portion de code ne pourra venir modifier les informations contenues dans le tuple. \n",
    "- L'utilisation des tuples est économe en ressources-système par rapport à une liste (en particulier, sa taille est fixe)\n"
   ]
  },
  {
   "cell_type": "code",
   "execution_count": 1,
   "metadata": {},
   "outputs": [],
   "source": [
    "monPremierTuple = (3, 5, 6)"
   ]
  },
  {
   "cell_type": "markdown",
   "metadata": {},
   "source": [
    "Un tuple se différencie d'une liste par l'utilisation des parenthèse au lieu des crochets."
   ]
  },
  {
   "cell_type": "code",
   "execution_count": 2,
   "metadata": {},
   "outputs": [
    {
     "data": {
      "text/plain": [
       "tuple"
      ]
     },
     "execution_count": 2,
     "metadata": {},
     "output_type": "execute_result"
    }
   ],
   "source": [
    "type(monPremierTuple)"
   ]
  },
  {
   "cell_type": "markdown",
   "metadata": {},
   "source": [
    "À noter qu'un tuple peut être déclaré sans parenthèse."
   ]
  },
  {
   "cell_type": "code",
   "execution_count": 4,
   "metadata": {},
   "outputs": [],
   "source": [
    "taille = 600, 800"
   ]
  },
  {
   "cell_type": "code",
   "execution_count": null,
   "metadata": {},
   "outputs": [],
   "source": []
  }
 ],
 "metadata": {
  "kernelspec": {
   "display_name": "Python 3",
   "language": "python",
   "name": "python3"
  },
  "language_info": {
   "codemirror_mode": {
    "name": "ipython",
    "version": 3
   },
   "file_extension": ".py",
   "mimetype": "text/x-python",
   "name": "python",
   "nbconvert_exporter": "python",
   "pygments_lexer": "ipython3",
   "version": "3.6.8"
  },
  "toc": {
   "base_numbering": 1,
   "nav_menu": {},
   "number_sections": false,
   "sideBar": true,
   "skip_h1_title": false,
   "title_cell": "Table of Contents",
   "title_sidebar": "Contents",
   "toc_cell": false,
   "toc_position": {},
   "toc_section_display": true,
   "toc_window_display": true
  }
 },
 "nbformat": 4,
 "nbformat_minor": 2
}
