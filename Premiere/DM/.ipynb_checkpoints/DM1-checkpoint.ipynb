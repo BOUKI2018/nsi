{
 "cells": [
  {
   "cell_type": "markdown",
   "metadata": {},
   "source": [
    "# DM des vacances de Toussaint \n",
    "Basé sur le pydéfi [Portrait Coloré](https://callicode.fr/pydefis/LePortraitColore/txt)  \n",
    "\n",
    "Il s'agit de reconstituer l'image [portrait.png](portrait.png) dont les pixels ont été modifiés suivant la méthode suivante :  \n",
    "\n",
    "*Chaque octet (un octet correspond à une composante couleur d'un pixel), a été mis à l'envers.\n",
    "Par exemple, l'octet 59 (00111011 en binaire) a été remplacé par 220 (11011100 en binaire, c'est-à-dire 00111011 lu à l'envers).*\n",
    "\n",
    "Ce pydéfi est à réaliser sur repl.it, vous retrouverez la structure du code sur le Projet que vous avez forké. \n",
    "\n",
    "Ci-dessous, vous trouverez quelques aides sur les manipulations qu'il vous sera (peut-être) nécessaire de faire. \n",
    "\n",
    "Un dernier mot : utilisez les fonctions ! Il faut par exemple commencer par se demander si on est capable de transformer le nombre 220 en 59, comme indiqué dans l'exemple..."
   ]
  },
  {
   "cell_type": "code",
   "execution_count": null,
   "metadata": {},
   "outputs": [],
   "source": []
  },
  {
   "cell_type": "code",
   "execution_count": null,
   "metadata": {},
   "outputs": [],
   "source": []
  },
  {
   "cell_type": "markdown",
   "metadata": {},
   "source": [
    "### Enlever les trois premiers éléments d'une chaîne de caractères :"
   ]
  },
  {
   "cell_type": "code",
   "execution_count": 1,
   "metadata": {},
   "outputs": [
    {
     "data": {
      "text/plain": [
       "'riac'"
      ]
     },
     "execution_count": 1,
     "metadata": {},
     "output_type": "execute_result"
    }
   ],
   "source": [
    "exemple = \"mauriac\"\n",
    "exemple[3:]"
   ]
  },
  {
   "cell_type": "markdown",
   "metadata": {},
   "source": [
    "### Rajouter des caractères à une chaîne de caractères"
   ]
  },
  {
   "cell_type": "code",
   "execution_count": 3,
   "metadata": {},
   "outputs": [
    {
     "name": "stdout",
     "output_type": "stream",
     "text": [
      "YYYYtest\n"
     ]
    }
   ],
   "source": [
    "exemple = \"test\"\n",
    "n = 4\n",
    "rep = \"Y\" * 4 + exemple\n",
    "print(rep)"
   ]
  },
  {
   "cell_type": "markdown",
   "metadata": {},
   "source": [
    "### Convertir un nombre de l'écriture décimale en écriture binaire "
   ]
  },
  {
   "cell_type": "code",
   "execution_count": 4,
   "metadata": {},
   "outputs": [
    {
     "data": {
      "text/plain": [
       "'0b100011'"
      ]
     },
     "execution_count": 4,
     "metadata": {},
     "output_type": "execute_result"
    }
   ],
   "source": [
    "bin(35)"
   ]
  },
  {
   "cell_type": "markdown",
   "metadata": {},
   "source": [
    "l'écriture binaire de 35 est donc 100011 "
   ]
  },
  {
   "cell_type": "markdown",
   "metadata": {},
   "source": [
    "### Convertir un nombre de l'écriture binaire en écriture décimale "
   ]
  },
  {
   "cell_type": "code",
   "execution_count": 6,
   "metadata": {},
   "outputs": [
    {
     "data": {
      "text/plain": [
       "9"
      ]
     },
     "execution_count": 6,
     "metadata": {},
     "output_type": "execute_result"
    }
   ],
   "source": [
    "int(\"1001\",2)"
   ]
  },
  {
   "cell_type": "markdown",
   "metadata": {},
   "source": [
    "l'écriture décimale du nombre binaire 1001 est donc 9. "
   ]
  },
  {
   "cell_type": "code",
   "execution_count": null,
   "metadata": {},
   "outputs": [],
   "source": []
  }
 ],
 "metadata": {
  "kernelspec": {
   "display_name": "Python 3",
   "language": "python",
   "name": "python3"
  },
  "language_info": {
   "codemirror_mode": {
    "name": "ipython",
    "version": 3
   },
   "file_extension": ".py",
   "mimetype": "text/x-python",
   "name": "python",
   "nbconvert_exporter": "python",
   "pygments_lexer": "ipython3",
   "version": "3.6.8"
  },
  "toc": {
   "base_numbering": 1,
   "nav_menu": {},
   "number_sections": false,
   "sideBar": true,
   "skip_h1_title": false,
   "title_cell": "Table of Contents",
   "title_sidebar": "Contents",
   "toc_cell": false,
   "toc_position": {},
   "toc_section_display": true,
   "toc_window_display": false
  }
 },
 "nbformat": 4,
 "nbformat_minor": 2
}
