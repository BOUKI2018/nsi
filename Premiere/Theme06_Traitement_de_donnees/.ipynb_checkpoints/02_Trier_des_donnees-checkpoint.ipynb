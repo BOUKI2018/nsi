{
 "cells": [
  {
   "cell_type": "markdown",
   "metadata": {},
   "source": [
    "# Trier des données\n"
   ]
  },
  {
   "cell_type": "markdown",
   "metadata": {},
   "source": [
    "Nous reprenons notre fichier de joueurs de rugby du Top14. \n"
   ]
  },
  {
   "cell_type": "code",
   "execution_count": 2,
   "metadata": {},
   "outputs": [],
   "source": [
    "import csv\n",
    "f = open('data/top14.csv', \"r\", encoding = 'utf-8')\n",
    "donnees = csv.DictReader(f)\n",
    "joueurs = []\n",
    "for ligne in donnees:\n",
    "    joueurs.append(dict(ligne))\n",
    "    \n",
    "f.close()"
   ]
  },
  {
   "cell_type": "markdown",
   "metadata": {},
   "source": [
    "### Créer une fonction filtre\n",
    "L'objectif est de créer une fonction `joueursEquipe(equipe)` qui renvoie une liste contentant tous les joueurs de l'équipe `equipe`. \n",
    "Le paramètre `equipe` sera donnée sous forme de chaîne de caractères. \n",
    "La valeur renvoyée sera de type liste."
   ]
  },
  {
   "cell_type": "code",
   "execution_count": 6,
   "metadata": {},
   "outputs": [],
   "source": [
    "def joueursEquipe(equipe):\n"
   ]
  },
  {
   "cell_type": "markdown",
   "metadata": {},
   "source": [
    "Exemple d'utilisation :"
   ]
  },
  {
   "cell_type": "code",
   "execution_count": 7,
   "metadata": {},
   "outputs": [
    {
     "data": {
      "text/plain": [
       "[{'Equipe': 'Bordeaux',\n",
       "  'Nom': 'Jefferson POIROT',\n",
       "  'Poste': 'Pilier',\n",
       "  'Date de naissance': '01/11/1992',\n",
       "  'Taille': '181',\n",
       "  'Poids': '117'},\n",
       " {'Equipe': 'Bordeaux',\n",
       "  'Nom': 'Lasha TABIDZE',\n",
       "  'Poste': 'Pilier',\n",
       "  'Date de naissance': '04/07/1997',\n",
       "  'Taille': '185',\n",
       "  'Poids': '117'},\n",
       " {'Equipe': 'Bordeaux',\n",
       "  'Nom': 'Laurent DELBOULBÈS',\n",
       "  'Poste': 'Pilier',\n",
       "  'Date de naissance': '17/11/1986',\n",
       "  'Taille': '181',\n",
       "  'Poids': '106'},\n",
       " {'Equipe': 'Bordeaux',\n",
       "  'Nom': 'Lekso KAULASHVILI',\n",
       "  'Poste': 'Pilier',\n",
       "  'Date de naissance': '27/08/1992',\n",
       "  'Taille': '187',\n",
       "  'Poids': '120'},\n",
       " {'Equipe': 'Bordeaux',\n",
       "  'Nom': 'Peni RAVAI',\n",
       "  'Poste': 'Pilier',\n",
       "  'Date de naissance': '16/06/1990',\n",
       "  'Taille': '185',\n",
       "  'Poids': '119'},\n",
       " {'Equipe': 'Bordeaux',\n",
       "  'Nom': 'Thierry PAÏVA',\n",
       "  'Poste': 'Pilier',\n",
       "  'Date de naissance': '19/11/1995',\n",
       "  'Taille': '184',\n",
       "  'Poids': '125'},\n",
       " {'Equipe': 'Bordeaux',\n",
       "  'Nom': 'Vadim COBILAS',\n",
       "  'Poste': 'Pilier',\n",
       "  'Date de naissance': '30/07/1983',\n",
       "  'Taille': '180',\n",
       "  'Poids': '118'},\n",
       " {'Equipe': 'Bordeaux',\n",
       "  'Nom': 'Adrien PÉLISSIÉ',\n",
       "  'Poste': 'Talonneur',\n",
       "  'Date de naissance': '07/08/1990',\n",
       "  'Taille': '181',\n",
       "  'Poids': '110'},\n",
       " {'Equipe': 'Bordeaux',\n",
       "  'Nom': 'Clément MAYNADIER',\n",
       "  'Poste': 'Talonneur',\n",
       "  'Date de naissance': '11/10/1988',\n",
       "  'Taille': '187',\n",
       "  'Poids': '100'},\n",
       " {'Equipe': 'Bordeaux',\n",
       "  'Nom': 'Alexandre FLANQUART',\n",
       "  'Poste': '2ème ligne',\n",
       "  'Date de naissance': '09/10/1989',\n",
       "  'Taille': '204',\n",
       "  'Poids': '120'},\n",
       " {'Equipe': 'Bordeaux',\n",
       "  'Nom': 'Cyril CAZEAUX',\n",
       "  'Poste': '2ème ligne',\n",
       "  'Date de naissance': '10/02/1995',\n",
       "  'Taille': '198',\n",
       "  'Poids': '113'},\n",
       " {'Equipe': 'Bordeaux',\n",
       "  'Nom': 'Jandré MARAIS',\n",
       "  'Poste': '2ème ligne',\n",
       "  'Date de naissance': '14/06/1989',\n",
       "  'Taille': '198',\n",
       "  'Poids': '118'},\n",
       " {'Equipe': 'Bordeaux',\n",
       "  'Nom': 'Kane DOUGLAS',\n",
       "  'Poste': '2ème ligne',\n",
       "  'Date de naissance': '01/06/1989',\n",
       "  'Taille': '202',\n",
       "  'Poids': '123'},\n",
       " {'Equipe': 'Bordeaux',\n",
       "  'Nom': 'Masalosalo TUTAIA',\n",
       "  'Poste': '2ème ligne',\n",
       "  'Date de naissance': '05/06/1984',\n",
       "  'Taille': '204',\n",
       "  'Poids': '125'},\n",
       " {'Equipe': 'Bordeaux',\n",
       "  'Nom': 'Afa AMOSA',\n",
       "  'Poste': '3ème ligne',\n",
       "  'Date de naissance': '11/10/1990',\n",
       "  'Taille': '187',\n",
       "  'Poids': '112'},\n",
       " {'Equipe': 'Bordeaux',\n",
       "  'Nom': 'Alexandre ROUMAT',\n",
       "  'Poste': '3ème ligne',\n",
       "  'Date de naissance': '27/06/1997',\n",
       "  'Taille': '198',\n",
       "  'Poids': '104'},\n",
       " {'Equipe': 'Bordeaux',\n",
       "  'Nom': 'Béka GORGADZE',\n",
       "  'Poste': '3ème ligne',\n",
       "  'Date de naissance': '08/02/1996',\n",
       "  'Taille': '189',\n",
       "  'Poids': '105'},\n",
       " {'Equipe': 'Bordeaux',\n",
       "  'Nom': 'Cameron WOKI',\n",
       "  'Poste': '3ème ligne',\n",
       "  'Date de naissance': '07/11/1998',\n",
       "  'Taille': '196',\n",
       "  'Poids': '103'},\n",
       " {'Equipe': 'Bordeaux',\n",
       "  'Nom': 'Mahamadou DIABY',\n",
       "  'Poste': '3ème ligne',\n",
       "  'Date de naissance': '15/08/1990',\n",
       "  'Taille': '188',\n",
       "  'Poids': '105'},\n",
       " {'Equipe': 'Bordeaux',\n",
       "  'Nom': 'Marco TAULEIGNE',\n",
       "  'Poste': '3ème ligne',\n",
       "  'Date de naissance': '30/08/1993',\n",
       "  'Taille': '191',\n",
       "  'Poids': '115'},\n",
       " {'Equipe': 'Bordeaux',\n",
       "  'Nom': 'Scott HIGGINBOTHAM',\n",
       "  'Poste': '3ème ligne',\n",
       "  'Date de naissance': '05/09/1986',\n",
       "  'Taille': '195',\n",
       "  'Poids': '110'},\n",
       " {'Equipe': 'Bordeaux',\n",
       "  'Nom': 'Maxime LUCU',\n",
       "  'Poste': 'Mêlée',\n",
       "  'Date de naissance': '12/01/1993',\n",
       "  'Taille': '177',\n",
       "  'Poids': '79'},\n",
       " {'Equipe': 'Bordeaux',\n",
       "  'Nom': 'Yann LESGOURGUES',\n",
       "  'Poste': 'Mêlée',\n",
       "  'Date de naissance': '17/01/1991',\n",
       "  'Taille': '174',\n",
       "  'Poids': '71'},\n",
       " {'Equipe': 'Bordeaux',\n",
       "  'Nom': 'Ben BOTICA',\n",
       "  'Poste': 'Ouverture',\n",
       "  'Date de naissance': '07/10/1989',\n",
       "  'Taille': '178',\n",
       "  'Poids': '93'},\n",
       " {'Equipe': 'Bordeaux',\n",
       "  'Nom': 'Lucas MÉRET',\n",
       "  'Poste': 'Ouverture',\n",
       "  'Date de naissance': '30/01/1995',\n",
       "  'Taille': '178',\n",
       "  'Poids': '85'},\n",
       " {'Equipe': 'Bordeaux',\n",
       "  'Nom': 'Matthieu JALIBERT',\n",
       "  'Poste': 'Ouverture',\n",
       "  'Date de naissance': '06/11/1998',\n",
       "  'Taille': '180',\n",
       "  'Poids': '79'},\n",
       " {'Equipe': 'Bordeaux',\n",
       "  'Nom': 'Jean-Baptiste DUBIÉ',\n",
       "  'Poste': 'Centre',\n",
       "  'Date de naissance': '16/07/1989',\n",
       "  'Taille': '181',\n",
       "  'Poids': '85'},\n",
       " {'Equipe': 'Bordeaux',\n",
       "  'Nom': 'Rémi LAMERAT',\n",
       "  'Poste': 'Centre',\n",
       "  'Date de naissance': '14/01/1990',\n",
       "  'Taille': '184',\n",
       "  'Poids': '105'},\n",
       " {'Equipe': 'Bordeaux',\n",
       "  'Nom': 'Semi RADRADRA',\n",
       "  'Poste': 'Centre',\n",
       "  'Date de naissance': '13/06/1992',\n",
       "  'Taille': '188',\n",
       "  'Poids': '102'},\n",
       " {'Equipe': 'Bordeaux',\n",
       "  'Nom': 'Seta TAMANIVALU',\n",
       "  'Poste': 'Centre',\n",
       "  'Date de naissance': '23/07/1992',\n",
       "  'Taille': '189',\n",
       "  'Poids': '110'},\n",
       " {'Equipe': 'Bordeaux',\n",
       "  'Nom': 'Ulupano SEUTENI',\n",
       "  'Poste': 'Centre',\n",
       "  'Date de naissance': '09/12/1993',\n",
       "  'Taille': '185',\n",
       "  'Poids': '95'},\n",
       " {'Equipe': 'Bordeaux',\n",
       "  'Nom': 'Blair CONNOR',\n",
       "  'Poste': 'Ailier',\n",
       "  'Date de naissance': '29/09/1988',\n",
       "  'Taille': '183',\n",
       "  'Poids': '82'},\n",
       " {'Equipe': 'Bordeaux',\n",
       "  'Nom': 'Nicolas PLAZY',\n",
       "  'Poste': 'Ailier',\n",
       "  'Date de naissance': '17/05/1994',\n",
       "  'Taille': '188',\n",
       "  'Poids': '85'},\n",
       " {'Equipe': 'Bordeaux',\n",
       "  'Nom': 'Santiago CORDERO',\n",
       "  'Poste': 'Ailier',\n",
       "  'Date de naissance': '06/12/1993',\n",
       "  'Taille': '177',\n",
       "  'Poids': '83'},\n",
       " {'Equipe': 'Bordeaux',\n",
       "  'Nom': 'Geoffrey CROS',\n",
       "  'Poste': 'Arrière',\n",
       "  'Date de naissance': '08/03/1997',\n",
       "  'Taille': '185',\n",
       "  'Poids': '85'},\n",
       " {'Equipe': 'Bordeaux',\n",
       "  'Nom': 'Nans DUCUING',\n",
       "  'Poste': 'Arrière',\n",
       "  'Date de naissance': '06/11/1991',\n",
       "  'Taille': '181',\n",
       "  'Poids': '90'},\n",
       " {'Equipe': 'Bordeaux',\n",
       "  'Nom': 'Romain BUROS',\n",
       "  'Poste': 'Arrière',\n",
       "  'Date de naissance': '31/07/1997',\n",
       "  'Taille': '187',\n",
       "  'Poids': '91'}]"
      ]
     },
     "execution_count": 7,
     "metadata": {},
     "output_type": "execute_result"
    }
   ],
   "source": [
    "joueursEquipe(\"Bordeaux\")"
   ]
  },
  {
   "cell_type": "markdown",
   "metadata": {},
   "source": [
    "Définir de la même manière une fonction `joueursPoste(poste)`."
   ]
  },
  {
   "cell_type": "code",
   "execution_count": null,
   "metadata": {},
   "outputs": [],
   "source": []
  },
  {
   "cell_type": "markdown",
   "metadata": {},
   "source": [
    "## Utilisation d'une fonction de tri"
   ]
  },
  {
   "cell_type": "markdown",
   "metadata": {},
   "source": [
    "Comment classer les joueurs suivant leur taille ?\n",
    "La fonction `sorted(liste)` est efficace sur les listes : elle renvoie une nouvelle liste triée dans l'ordre croissant."
   ]
  },
  {
   "cell_type": "code",
   "execution_count": 13,
   "metadata": {},
   "outputs": [
    {
     "name": "stdout",
     "output_type": "stream",
     "text": [
      "[2, 4, 6, 8]\n"
     ]
    }
   ],
   "source": [
    "mylist = [4,2,8,6]\n",
    "mynewlist = sorted(mylist)\n",
    "print(mynewlist)"
   ]
  },
  {
   "cell_type": "markdown",
   "metadata": {},
   "source": [
    "Mais comment trier un dictionnaire ? "
   ]
  },
  {
   "cell_type": "code",
   "execution_count": 14,
   "metadata": {},
   "outputs": [
    {
     "ename": "TypeError",
     "evalue": "'<' not supported between instances of 'dict' and 'dict'",
     "output_type": "error",
     "traceback": [
      "\u001b[0;31m---------------------------------------------------------------------------\u001b[0m",
      "\u001b[0;31mTypeError\u001b[0m                                 Traceback (most recent call last)",
      "\u001b[0;32m<ipython-input-14-de081d14a3da>\u001b[0m in \u001b[0;36m<module>\u001b[0;34m\u001b[0m\n\u001b[0;32m----> 1\u001b[0;31m \u001b[0mtest\u001b[0m \u001b[0;34m=\u001b[0m \u001b[0msorted\u001b[0m\u001b[0;34m(\u001b[0m\u001b[0mjoueurs\u001b[0m\u001b[0;34m)\u001b[0m\u001b[0;34m\u001b[0m\u001b[0;34m\u001b[0m\u001b[0m\n\u001b[0m",
      "\u001b[0;31mTypeError\u001b[0m: '<' not supported between instances of 'dict' and 'dict'"
     ]
    }
   ],
   "source": [
    "test = sorted(joueurs)"
   ]
  },
  {
   "cell_type": "markdown",
   "metadata": {},
   "source": [
    "Il est normal que cette tentative échoue : un dictionnaire possède plusieurs clés différentes.\n",
    "Ici, plusieurs clés peuvent être des critères de tri : la taille, le poids."
   ]
  },
  {
   "cell_type": "markdown",
   "metadata": {},
   "source": [
    "### un exemple de tri de dictionnaire"
   ]
  },
  {
   "cell_type": "code",
   "execution_count": 22,
   "metadata": {},
   "outputs": [],
   "source": [
    "Simpsons = [{\"Prenom\" : \"Bart\", \"age estimé\": \"10\"},\n",
    "           {\"Prenom\" : \"Lisa\", \"age estimé\": \"8\"},\n",
    "           {\"Prenom\" : \"Maggie\", \"age estimé\": \"1\"},\n",
    "           {\"Prenom\" : \"Homer\", \"age estimé\": \"38\"},\n",
    "           {\"Prenom\" : \"Marge\", \"age estimé\": \"37\"}]"
   ]
  },
  {
   "cell_type": "code",
   "execution_count": 23,
   "metadata": {},
   "outputs": [],
   "source": [
    "def age(personnage):\n",
    "    return int(personnage[\"age estimé\"])"
   ]
  },
  {
   "cell_type": "code",
   "execution_count": 24,
   "metadata": {},
   "outputs": [
    {
     "data": {
      "text/plain": [
       "10"
      ]
     },
     "execution_count": 24,
     "metadata": {},
     "output_type": "execute_result"
    }
   ],
   "source": [
    "age(Simpsons[0])"
   ]
  },
  {
   "cell_type": "markdown",
   "metadata": {},
   "source": [
    "La création de cette fonction `age()` va nous permettre de spécifier une clé de tri, par le paramètre `key` :"
   ]
  },
  {
   "cell_type": "code",
   "execution_count": 25,
   "metadata": {},
   "outputs": [],
   "source": [
    "triSimpsons = sorted(Simpsons, key = age)"
   ]
  },
  {
   "cell_type": "code",
   "execution_count": 26,
   "metadata": {},
   "outputs": [
    {
     "data": {
      "text/plain": [
       "[{'Prenom': 'Maggie', 'age estimé': '1'},\n",
       " {'Prenom': 'Lisa', 'age estimé': '8'},\n",
       " {'Prenom': 'Bart', 'age estimé': '10'},\n",
       " {'Prenom': 'Marge', 'age estimé': '37'},\n",
       " {'Prenom': 'Homer', 'age estimé': '38'}]"
      ]
     },
     "execution_count": 26,
     "metadata": {},
     "output_type": "execute_result"
    }
   ],
   "source": [
    "triSimpsons"
   ]
  },
  {
   "cell_type": "code",
   "execution_count": 28,
   "metadata": {},
   "outputs": [],
   "source": [
    "triSimpsons = sorted(Simpsons, key = age, reverse = True)"
   ]
  },
  {
   "cell_type": "code",
   "execution_count": 29,
   "metadata": {},
   "outputs": [
    {
     "data": {
      "text/plain": [
       "[{'Prenom': 'Homer', 'age estimé': '38'},\n",
       " {'Prenom': 'Marge', 'age estimé': '37'},\n",
       " {'Prenom': 'Bart', 'age estimé': '10'},\n",
       " {'Prenom': 'Lisa', 'age estimé': '8'},\n",
       " {'Prenom': 'Maggie', 'age estimé': '1'}]"
      ]
     },
     "execution_count": 29,
     "metadata": {},
     "output_type": "execute_result"
    }
   ],
   "source": [
    "triSimpsons"
   ]
  },
  {
   "cell_type": "markdown",
   "metadata": {},
   "source": [
    "## Exercice \n",
    "1. Trier les joueurs du top14 par taille.\n",
    "2. Trier les joueurs de Bordeaux par taille.\n",
    "3. Trier les joueurs de Bordeaux suivant leur Indice de Masse Corporelle ([IMC](https://fr.wikipedia.org/wiki/Indice_de_masse_corporelle) )"
   ]
  },
  {
   "cell_type": "code",
   "execution_count": null,
   "metadata": {},
   "outputs": [],
   "source": []
  },
  {
   "cell_type": "markdown",
   "metadata": {},
   "source": [
    "## Recherche des joueurs de profil  physique similaire"
   ]
  },
  {
   "cell_type": "markdown",
   "metadata": {},
   "source": [
    "### Distance entre deux joueurs\n",
    "Construire une fonction `distance(joueur1,joueur2)` qui renvoie la somme des carrés des différences de tailles et de poids entre les joueurs `joueur1` et `joueur2` : \n",
    "$$ d = (p_1-p_2)^2 + (t_1-t_2)^2$$"
   ]
  },
  {
   "cell_type": "code",
   "execution_count": 30,
   "metadata": {},
   "outputs": [],
   "source": [
    "def distance(joueur1,joueur2):\n"
   ]
  },
  {
   "cell_type": "markdown",
   "metadata": {},
   "source": [
    "### Distance des joueurs avec Baptiste Serin"
   ]
  },
  {
   "cell_type": "markdown",
   "metadata": {},
   "source": [
    "Retrouvons d'abord le numéro de Baptiste Serin dans notre classement de joueurs :"
   ]
  },
  {
   "cell_type": "code",
   "execution_count": null,
   "metadata": {},
   "outputs": [],
   "source": []
  },
  {
   "cell_type": "code",
   "execution_count": null,
   "metadata": {},
   "outputs": [],
   "source": []
  },
  {
   "cell_type": "markdown",
   "metadata": {},
   "source": [
    "Nous pouvons maintenant classer les joueurs suivant leur distance morphologique à Baptiste  SERIN :"
   ]
  },
  {
   "cell_type": "code",
   "execution_count": 37,
   "metadata": {},
   "outputs": [],
   "source": [
    "def distanceSerin(joueur2):\n"
   ]
  },
  {
   "cell_type": "code",
   "execution_count": null,
   "metadata": {},
   "outputs": [],
   "source": []
  }
 ],
 "metadata": {
  "kernelspec": {
   "display_name": "Python 3",
   "language": "python",
   "name": "python3"
  },
  "language_info": {
   "codemirror_mode": {
    "name": "ipython",
    "version": 3
   },
   "file_extension": ".py",
   "mimetype": "text/x-python",
   "name": "python",
   "nbconvert_exporter": "python",
   "pygments_lexer": "ipython3",
   "version": "3.6.9"
  },
  "toc": {
   "base_numbering": 1,
   "nav_menu": {},
   "number_sections": false,
   "sideBar": true,
   "skip_h1_title": false,
   "title_cell": "Table of Contents",
   "title_sidebar": "Contents",
   "toc_cell": false,
   "toc_position": {},
   "toc_section_display": true,
   "toc_window_display": true
  }
 },
 "nbformat": 4,
 "nbformat_minor": 2
}
