{
 "cells": [
  {
   "cell_type": "markdown",
   "metadata": {},
   "source": [
    "## Apprendre ses tables de multiplication\n",
    "![](data/gif_tables.gif)"
   ]
  },
  {
   "cell_type": "markdown",
   "metadata": {},
   "source": [
    "### Étape 1 \n",
    "Demander **une** multiplication aléatoire, et vérifier la réponse donnée par l'utilisateur\n",
    "\n",
    "#### Outils nécessaires\n",
    "\n"
   ]
  },
  {
   "cell_type": "markdown",
   "metadata": {},
   "source": [
    "- fonction **randint()**\n",
    "\n",
    "\n",
    "```randint(min,max)``` permet de générer un nombre entier pseudo-aléatoire entre min et max."
   ]
  },
  {
   "cell_type": "code",
   "execution_count": 3,
   "metadata": {},
   "outputs": [
    {
     "name": "stdout",
     "output_type": "stream",
     "text": [
      "19\n"
     ]
    }
   ],
   "source": [
    "from random import randint\n",
    "a = randint(10,20)\n",
    "print(a)"
   ]
  },
  {
   "cell_type": "markdown",
   "metadata": {},
   "source": [
    "- fonction **input()**\n",
    "\n",
    "\n",
    "```n = int(input(chaine de caractères)``` permet de récupérer dans ```n``` l'entier tapé par l'utilisateur. Attention, ```input()``` récupère une chaîne de caractères. On la convertit en entier grâce à ```int()```"
   ]
  },
  {
   "cell_type": "code",
   "execution_count": null,
   "metadata": {},
   "outputs": [],
   "source": []
  }
 ],
 "metadata": {
  "kernelspec": {
   "display_name": "Python 3.6.9 64-bit",
   "language": "python",
   "name": "python36964bit9f899ef1f6144dc3be0f32d67042f5ff"
  },
  "language_info": {
   "codemirror_mode": {
    "name": "ipython",
    "version": 3
   },
   "file_extension": ".py",
   "mimetype": "text/x-python",
   "name": "python",
   "nbconvert_exporter": "python",
   "pygments_lexer": "ipython3",
   "version": "3.6.9"
  }
 },
 "nbformat": 4,
 "nbformat_minor": 4
}
