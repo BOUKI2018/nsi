{
 "cells": [
  {
   "cell_type": "markdown",
   "metadata": {},
   "source": [
    "# Dictionnaires\n",
    "\n",
    "Dans le Programme Officiel : \n",
    "![image](pic.png)"
   ]
  },
  {
   "cell_type": "markdown",
   "metadata": {},
   "source": [
    "**Contexte pédagogique :**  \n",
    "Les élèves sont déjà familiers des [listes](https://github.com/glassus/nsi/blob/master/Premiere/Theme02_Types_construits/01_Listes/Listes.ipynb) et des [tuples](https://github.com/glassus/nsi/blob/master/Premiere/Theme02_Types_construits/02_Tuples/Tuples.ipynb).  \n",
    "\n",
    "Le choix pédagogique est de présenter la structure par des exemples pour initier le dialogue, avant de la définir."
   ]
  },
  {
   "cell_type": "markdown",
   "metadata": {},
   "source": [
    "# Premiers exemples"
   ]
  },
  {
   "cell_type": "code",
   "execution_count": 1,
   "metadata": {},
   "outputs": [],
   "source": [
    "dressing = {\"pantalons\":3, \"pulls\":4, \"tee-shirts\":8}"
   ]
  },
  {
   "cell_type": "code",
   "execution_count": 2,
   "metadata": {},
   "outputs": [
    {
     "data": {
      "text/plain": [
       "4"
      ]
     },
     "execution_count": 2,
     "metadata": {},
     "output_type": "execute_result"
    }
   ],
   "source": [
    "dressing[\"pulls\"]"
   ]
  },
  {
   "cell_type": "code",
   "execution_count": 3,
   "metadata": {},
   "outputs": [],
   "source": [
    "vocabulaire = {\"navigateur\":\"browser\", \"précédent\":\"back\", \"suivant\":\"forward\"}"
   ]
  },
  {
   "cell_type": "code",
   "execution_count": 4,
   "metadata": {},
   "outputs": [
    {
     "data": {
      "text/plain": [
       "'forward'"
      ]
     },
     "execution_count": 4,
     "metadata": {},
     "output_type": "execute_result"
    }
   ],
   "source": [
    "vocabulaire[\"suivant\"]"
   ]
  },
  {
   "cell_type": "markdown",
   "metadata": {},
   "source": [
    "*remarque orale : un dictionnnaire ne sert pas qu'à compter des objets.*"
   ]
  },
  {
   "cell_type": "code",
   "execution_count": 5,
   "metadata": {},
   "outputs": [],
   "source": [
    "AlanTuring = {\"naissance\":(23,6,1912),\"décès\":(12,6,1954),\"lieu naissance\":\"Londres\", \"lieu décès\":\"Wilmslow\"}"
   ]
  },
  {
   "cell_type": "code",
   "execution_count": 6,
   "metadata": {},
   "outputs": [
    {
     "data": {
      "text/plain": [
       "(12, 6, 1954)"
      ]
     },
     "execution_count": 6,
     "metadata": {},
     "output_type": "execute_result"
    }
   ],
   "source": [
    "AlanTuring[\"décès\"]"
   ]
  },
  {
   "cell_type": "markdown",
   "metadata": {},
   "source": [
    "*remarque orale : un dictionnaire peut contenir des objets de types différents (ici, des tuples et des chaines de caractères)*"
   ]
  },
  {
   "cell_type": "markdown",
   "metadata": {},
   "source": [
    "# Définition d'un dictionnaire\n",
    "Un dictionnaire est une donnée composite qui **n'est pas ordonnée**.  \n",
    "Il fonctionne par un système de `clé : valeur`.  (en anglais `key : value`)  \n",
    "Chaque paire de `key : value` est appelé un `item`.  \n",
    "Les clés, comme les valeurs, peuvent être de types différents.\n",
    "Chaque clé est **unique**.\n",
    "\n",
    "Un dictionnaire est délimité par des accolades.  \n",
    "Rappel :\n",
    "- crochets [ ] -> listes\n",
    "- parenthèses ( ) -> tuples\n",
    "- accolades { } -> dictionnaires\n"
   ]
  },
  {
   "cell_type": "code",
   "execution_count": 7,
   "metadata": {},
   "outputs": [
    {
     "data": {
      "text/plain": [
       "{'navigateur': 'browser', 'précédent': 'back', 'suivant': 'forward'}"
      ]
     },
     "execution_count": 7,
     "metadata": {},
     "output_type": "execute_result"
    }
   ],
   "source": [
    "vocabulaire"
   ]
  },
  {
   "cell_type": "code",
   "execution_count": 8,
   "metadata": {},
   "outputs": [
    {
     "data": {
      "text/plain": [
       "dict"
      ]
     },
     "execution_count": 8,
     "metadata": {},
     "output_type": "execute_result"
    }
   ],
   "source": [
    "type(vocabulaire)"
   ]
  },
  {
   "cell_type": "markdown",
   "metadata": {},
   "source": [
    "Il est possible d'obtenir la liste des clés et des valeurs avec la méthode `keys()` et la méthode `values`."
   ]
  },
  {
   "cell_type": "code",
   "execution_count": 9,
   "metadata": {},
   "outputs": [
    {
     "data": {
      "text/plain": [
       "dict_keys(['pantalons', 'pulls', 'tee-shirts'])"
      ]
     },
     "execution_count": 9,
     "metadata": {},
     "output_type": "execute_result"
    }
   ],
   "source": [
    "dressing.keys()"
   ]
  },
  {
   "cell_type": "code",
   "execution_count": 10,
   "metadata": {},
   "outputs": [
    {
     "data": {
      "text/plain": [
       "dict_values(['browser', 'back', 'forward'])"
      ]
     },
     "execution_count": 10,
     "metadata": {},
     "output_type": "execute_result"
    }
   ],
   "source": [
    "vocabulaire.values()"
   ]
  },
  {
   "cell_type": "code",
   "execution_count": 11,
   "metadata": {},
   "outputs": [
    {
     "data": {
      "text/plain": [
       "dict_items([('navigateur', 'browser'), ('précédent', 'back'), ('suivant', 'forward')])"
      ]
     },
     "execution_count": 11,
     "metadata": {},
     "output_type": "execute_result"
    }
   ],
   "source": [
    "vocabulaire.items()"
   ]
  },
  {
   "cell_type": "markdown",
   "metadata": {},
   "source": [
    "## Création d'un dictionnaire vide\n",
    "On crée un dictionnaire vide par l'instruction :"
   ]
  },
  {
   "cell_type": "code",
   "execution_count": 12,
   "metadata": {},
   "outputs": [],
   "source": [
    "monDico = dict()"
   ]
  },
  {
   "cell_type": "code",
   "execution_count": 13,
   "metadata": {},
   "outputs": [
    {
     "data": {
      "text/plain": [
       "dict"
      ]
     },
     "execution_count": 13,
     "metadata": {},
     "output_type": "execute_result"
    }
   ],
   "source": [
    "type(monDico)"
   ]
  },
  {
   "cell_type": "markdown",
   "metadata": {},
   "source": [
    "ou plus simplement de cette manière :"
   ]
  },
  {
   "cell_type": "code",
   "execution_count": 14,
   "metadata": {},
   "outputs": [],
   "source": [
    "unAutreDico = {}"
   ]
  },
  {
   "cell_type": "code",
   "execution_count": 15,
   "metadata": {},
   "outputs": [
    {
     "data": {
      "text/plain": [
       "dict"
      ]
     },
     "execution_count": 15,
     "metadata": {},
     "output_type": "execute_result"
    }
   ],
   "source": [
    "type(unAutreDico)"
   ]
  },
  {
   "cell_type": "markdown",
   "metadata": {},
   "source": [
    "## Ajout / Modification d'un élément dans un dictionnaire\n",
    "Pas besoin d'une méthode `append()` comme pour les listes, il suffit de rajouter une paire `clé : valeur`"
   ]
  },
  {
   "cell_type": "code",
   "execution_count": 16,
   "metadata": {},
   "outputs": [],
   "source": [
    "dressing[\"chaussettes\"] = 12"
   ]
  },
  {
   "cell_type": "code",
   "execution_count": 17,
   "metadata": {},
   "outputs": [
    {
     "data": {
      "text/plain": [
       "{'pantalons': 3, 'pulls': 4, 'tee-shirts': 8, 'chaussettes': 12}"
      ]
     },
     "execution_count": 17,
     "metadata": {},
     "output_type": "execute_result"
    }
   ],
   "source": [
    "dressing"
   ]
  },
  {
   "cell_type": "markdown",
   "metadata": {},
   "source": [
    "On peut évidemment modifier un dictionnaire existant (ce n'est pas un tuple !)"
   ]
  },
  {
   "cell_type": "code",
   "execution_count": 18,
   "metadata": {},
   "outputs": [],
   "source": [
    "dressing[\"chaussettes\"] = 11"
   ]
  },
  {
   "cell_type": "code",
   "execution_count": 19,
   "metadata": {},
   "outputs": [
    {
     "data": {
      "text/plain": [
       "{'pantalons': 3, 'pulls': 4, 'tee-shirts': 8, 'chaussettes': 11}"
      ]
     },
     "execution_count": 19,
     "metadata": {},
     "output_type": "execute_result"
    }
   ],
   "source": [
    "dressing"
   ]
  },
  {
   "cell_type": "markdown",
   "metadata": {},
   "source": [
    "## Suppression d'une clé\n",
    "On utilise l'instruction `del` (déjà rencontrée pour les listes)"
   ]
  },
  {
   "cell_type": "code",
   "execution_count": 20,
   "metadata": {},
   "outputs": [],
   "source": [
    "del dressing[\"chaussettes\"]"
   ]
  },
  {
   "cell_type": "code",
   "execution_count": 21,
   "metadata": {},
   "outputs": [
    {
     "data": {
      "text/plain": [
       "{'pantalons': 3, 'pulls': 4, 'tee-shirts': 8}"
      ]
     },
     "execution_count": 21,
     "metadata": {},
     "output_type": "execute_result"
    }
   ],
   "source": [
    "dressing"
   ]
  },
  {
   "cell_type": "markdown",
   "metadata": {},
   "source": [
    "## Exercice :\n",
    "Créer une fonction `achat(habit)` qui augmente de 1 le nombre d'habits (pantalon, pull ou tee-shirt) de mon dressing."
   ]
  },
  {
   "cell_type": "code",
   "execution_count": 22,
   "metadata": {},
   "outputs": [],
   "source": [
    "#correction possible\n",
    "def achat(habit):\n",
    "    dressing[habit] = dressing[habit] + 1\n"
   ]
  },
  {
   "cell_type": "markdown",
   "metadata": {},
   "source": [
    "Utilisation :"
   ]
  },
  {
   "cell_type": "code",
   "execution_count": 23,
   "metadata": {
    "scrolled": true
   },
   "outputs": [
    {
     "name": "stdout",
     "output_type": "stream",
     "text": [
      "{'pantalons': 3, 'pulls': 4, 'tee-shirts': 8}\n",
      "{'pantalons': 4, 'pulls': 4, 'tee-shirts': 8}\n"
     ]
    }
   ],
   "source": [
    "print(dressing)\n",
    "achat(\"pantalons\")\n",
    "print(dressing)"
   ]
  },
  {
   "cell_type": "markdown",
   "metadata": {},
   "source": [
    "##  Test d'appartenance à un dictionnaire\n",
    "Le mot `in` permet de tester l'appartenance d'une clé à un dictionnaire. Un booléen est renvoyé."
   ]
  },
  {
   "cell_type": "code",
   "execution_count": 24,
   "metadata": {},
   "outputs": [
    {
     "data": {
      "text/plain": [
       "False"
      ]
     },
     "execution_count": 24,
     "metadata": {},
     "output_type": "execute_result"
    }
   ],
   "source": [
    "\"cravates\" in dressing"
   ]
  },
  {
   "cell_type": "code",
   "execution_count": 25,
   "metadata": {},
   "outputs": [
    {
     "data": {
      "text/plain": [
       "True"
      ]
     },
     "execution_count": 25,
     "metadata": {},
     "output_type": "execute_result"
    }
   ],
   "source": [
    "\"pulls\" in dressing"
   ]
  },
  {
   "cell_type": "markdown",
   "metadata": {},
   "source": [
    "##  Parcours des éléments d'un dictionnaire"
   ]
  },
  {
   "cell_type": "markdown",
   "metadata": {},
   "source": [
    "### itération sur les clés"
   ]
  },
  {
   "cell_type": "code",
   "execution_count": 26,
   "metadata": {},
   "outputs": [
    {
     "name": "stdout",
     "output_type": "stream",
     "text": [
      "pantalons\n",
      "pulls\n",
      "tee-shirts\n"
     ]
    }
   ],
   "source": [
    "for cle in dressing.keys():\n",
    "    print(cle)"
   ]
  },
  {
   "cell_type": "markdown",
   "metadata": {},
   "source": [
    "### itération sur les valeurs"
   ]
  },
  {
   "cell_type": "code",
   "execution_count": 27,
   "metadata": {},
   "outputs": [
    {
     "name": "stdout",
     "output_type": "stream",
     "text": [
      "4\n",
      "4\n",
      "8\n"
     ]
    }
   ],
   "source": [
    "for valeur in dressing.values():\n",
    "    print(valeur)"
   ]
  },
  {
   "cell_type": "markdown",
   "metadata": {},
   "source": [
    "### itération sur les couples (clés, valeurs)"
   ]
  },
  {
   "cell_type": "code",
   "execution_count": 34,
   "metadata": {},
   "outputs": [
    {
     "name": "stdout",
     "output_type": "stream",
     "text": [
      "dans ma penderie il y a 4 pantalons\n",
      "dans ma penderie il y a 4 pulls\n",
      "dans ma penderie il y a 8 tee-shirts\n"
     ]
    }
   ],
   "source": [
    "for (cle, valeur) in dressing.items():\n",
    "    print(\"dans ma penderie il y a\", valeur, cle)"
   ]
  },
  {
   "cell_type": "markdown",
   "metadata": {},
   "source": [
    "# Application 1 : lecture et manipulation des métadonnées EXIF d'une image\n",
    "\n",
    "On considère l'image [liberty.jpg](./liberty.jpg) dont nous allons extraire les données EXIF à l'aide du module [exifread](https://pypi.org/project/ExifRead/)\n",
    "\n",
    "![image](./liberty.jpg)"
   ]
  },
  {
   "cell_type": "code",
   "execution_count": 46,
   "metadata": {},
   "outputs": [],
   "source": [
    "import exifread\n",
    "f = open(\"liberty.jpg\", 'rb')\n",
    "data = exifread.process_file(f)"
   ]
  },
  {
   "cell_type": "markdown",
   "metadata": {},
   "source": [
    "**Question 1** Observer ce contient la variable `data`. De quel type est-elle ?"
   ]
  },
  {
   "cell_type": "code",
   "execution_count": 47,
   "metadata": {},
   "outputs": [
    {
     "data": {
      "text/plain": [
       "{'Image ImageWidth': (0x0100) Long=3264 @ 18,\n",
       " 'Image ImageLength': (0x0101) Long=1836 @ 30,\n",
       " 'Image Make': (0x010F) ASCII=SAMSUNG @ 158,\n",
       " 'Image Model': (0x0110) ASCII=GT-I9195 @ 166,\n",
       " 'Image Orientation': (0x0112) Short=Horizontal (normal) @ 66,\n",
       " 'Image XResolution': (0x011A) Ratio=72 @ 176,\n",
       " 'Image YResolution': (0x011B) Ratio=72 @ 184,\n",
       " 'Image ResolutionUnit': (0x0128) Short=Pixels/Inch @ 102,\n",
       " 'Image Software': (0x0131) ASCII=Shotwell 0.22.0 @ 192,\n",
       " 'Image YCbCrPositioning': (0x0213) Short=Centered @ 126,\n",
       " 'Image ExifOffset': (0x8769) Long=208 @ 138,\n",
       " 'GPS GPSVersionID': (0x0000) Byte=[2, 2, 0, 0] @ 830,\n",
       " 'GPS GPSLatitudeRef': (0x0001) ASCII=N @ 842,\n",
       " 'GPS GPSLatitude': (0x0002) Ratio=[44, 51, 24163/1250] @ 934,\n",
       " 'GPS GPSLongitudeRef': (0x0003) ASCII=W @ 866,\n",
       " 'GPS GPSLongitude': (0x0004) Ratio=[0, 34, 169537/10000] @ 958,\n",
       " 'GPS GPSAltitudeRef': (0x0005) Byte=0 @ 890,\n",
       " 'GPS GPSAltitude': (0x0006) Ratio=58 @ 982,\n",
       " 'GPS GPSTimeStamp': (0x0007) Ratio=[12, 28, 10] @ 990,\n",
       " 'GPS GPSDate': (0x001D) ASCII=2019:03:28 @ 1014,\n",
       " 'Image GPSInfo': (0x8825) Long=820 @ 150,\n",
       " 'EXIF ExposureTime': (0x829A) Ratio=1/1093 @ 586,\n",
       " 'EXIF FNumber': (0x829D) Ratio=13/5 @ 594,\n",
       " 'EXIF ExposureProgram': (0x8822) Short=Aperture Priority @ 242,\n",
       " 'EXIF ISOSpeedRatings': (0x8827) Short=50 @ 254,\n",
       " 'EXIF ExifVersion': (0x9000) Undefined=0220 @ 266,\n",
       " 'EXIF ComponentsConfiguration': (0x9101) Undefined=YCbCr @ 278,\n",
       " 'EXIF ShutterSpeedValue': (0x9201) Signed Ratio=1/1093 @ 602,\n",
       " 'EXIF ApertureValue': (0x9202) Ratio=69/25 @ 610,\n",
       " 'EXIF BrightnessValue': (0x9203) Signed Ratio=76 @ 618,\n",
       " 'EXIF ExposureBiasValue': (0x9204) Signed Ratio=0 @ 626,\n",
       " 'EXIF MaxApertureValue': (0x9205) Ratio=69/25 @ 634,\n",
       " 'EXIF MeteringMode': (0x9207) Short=CenterWeightedAverage @ 350,\n",
       " 'EXIF LightSource': (0x9208) Short=Unknown @ 362,\n",
       " 'EXIF Flash': (0x9209) Short=Flash did not fire @ 374,\n",
       " 'EXIF FocalLength': (0x920A) Ratio=37/10 @ 642,\n",
       " 'EXIF MakerNote': (0x927C) Undefined=[7, 0, 1, 0, 7, 0, 4, 0, 0, 0, 48, 49, 48, 48, 2, 0, 4, 0, 1, 0, ... ] @ 650,\n",
       " 'EXIF UserComment': (0x9286) Undefined=User comments @ 748,\n",
       " 'EXIF FlashPixVersion': (0xA000) Undefined=0100 @ 422,\n",
       " 'EXIF ColorSpace': (0xA001) Short=sRGB @ 434,\n",
       " 'EXIF ExifImageWidth': (0xA002) Signed Long=2524 @ 446,\n",
       " 'EXIF ExifImageLength': (0xA003) Signed Long=1662 @ 458,\n",
       " 'Interoperability InteroperabilityIndex': (0x0001) ASCII=R98 @ 800,\n",
       " 'Interoperability InteroperabilityVersion': (0x0002) Undefined=[48, 49, 48, 48] @ 812,\n",
       " 'EXIF InteroperabilityOffset': (0xA005) Long=790 @ 470,\n",
       " 'EXIF SensingMethod': (0xA217) Short=One-chip color area @ 482,\n",
       " 'EXIF SceneType': (0xA301) Short=Directly Photographed @ 494,\n",
       " 'EXIF ExposureMode': (0xA402) Short=Auto Exposure @ 506,\n",
       " 'EXIF WhiteBalance': (0xA403) Short=Auto @ 518,\n",
       " 'EXIF DigitalZoomRatio': (0xA404) Ratio=3 @ 770,\n",
       " 'EXIF SceneCaptureType': (0xA406) Short=Standard @ 542,\n",
       " 'EXIF Saturation': (0xA409) Short=Normal @ 554,\n",
       " 'EXIF Sharpness': (0xA40A) Short=Normal @ 566,\n",
       " 'EXIF ImageUniqueID': (0xA420) ASCII=S08Q0LEGC01 @ 778}"
      ]
     },
     "execution_count": 47,
     "metadata": {},
     "output_type": "execute_result"
    }
   ],
   "source": [
    "#solution\n",
    "data"
   ]
  },
  {
   "cell_type": "markdown",
   "metadata": {},
   "source": [
    "Réponse : `data` est un dictionnaire."
   ]
  },
  {
   "cell_type": "markdown",
   "metadata": {},
   "source": [
    "**Question 2** Afficher la valeur correspondant à la clé `'Image Make'`."
   ]
  },
  {
   "cell_type": "code",
   "execution_count": 48,
   "metadata": {},
   "outputs": [
    {
     "data": {
      "text/plain": [
       "(0x010F) ASCII=SAMSUNG @ 158"
      ]
     },
     "execution_count": 48,
     "metadata": {},
     "output_type": "execute_result"
    }
   ],
   "source": [
    "#solution\n",
    "data['Image Make']"
   ]
  },
  {
   "cell_type": "markdown",
   "metadata": {},
   "source": [
    "**Question 3** Modifier cette valeur pour que l'appareil apparaisse comme étant fabriqué par Apple."
   ]
  },
  {
   "cell_type": "code",
   "execution_count": 51,
   "metadata": {},
   "outputs": [],
   "source": [
    "#solution\n",
    "data['Image Make']=\"(0x010F) ASCII=APPLE @ 158\""
   ]
  },
  {
   "cell_type": "markdown",
   "metadata": {},
   "source": [
    "**Question 4** Repérer dans le dictionnaire les renseignements relatifs à la latitude et la longitude enregistrées dans les métadonnées de cette image.  \n",
    "Attention, les données sont au format Degré Minutes Secondes. \n",
    "La dernière valeur donnée est donnée sous forme de quotient, il faut le calculer !\n",
    "Vous pourrez utiliser le site [https://www.coordonnees-gps.fr/](https://www.coordonnees-gps.fr/)"
   ]
  },
  {
   "cell_type": "code",
   "execution_count": 56,
   "metadata": {},
   "outputs": [
    {
     "name": "stdout",
     "output_type": "stream",
     "text": [
      "N\n",
      "[44, 51, 24163/1250]\n",
      "W\n",
      "[0, 34, 169537/10000]\n"
     ]
    }
   ],
   "source": [
    "#réponse :\n",
    "print(data['GPS GPSLatitudeRef'])\n",
    "print(data['GPS GPSLatitude'])\n",
    "print(data['GPS GPSLongitudeRef'])\n",
    "print(data['GPS GPSLongitude'])\n"
   ]
  },
  {
   "cell_type": "markdown",
   "metadata": {},
   "source": [
    "En DMS, la latitude est 44°51'19.3304'' Nord.  \n",
    "la longitude est 0°34'16.9537'' Ouest.\n",
    "\n",
    "Ce qui donne :\n",
    "![image](./localisation_liberty.png)\n",
    "\n",
    "En effet, cette photographie a été prise Place Picard, à Bordeaux, où se trouve une Statue de la Liberté.\n",
    "\n",
    "![image](./place_picard.png)"
   ]
  },
  {
   "cell_type": "markdown",
   "metadata": {},
   "source": [
    "*Discussion avec les élèves sur le crédit à appporter aux données EXIF, car on vient de voir qu'elles étaient modifiables !*"
   ]
  },
  {
   "cell_type": "markdown",
   "metadata": {},
   "source": [
    "# Application 2 : résolution du pydéfi \"le seul et unique\"\n",
    "\n",
    "D'après le [défi](https://callicode.fr/pydefis/PokePlusRare/txt) proposé par L.Signac .\n",
    "![image](cap_pydefi.png)"
   ]
  },
  {
   "cell_type": "markdown",
   "metadata": {},
   "source": [
    "###  Travail préalable\n",
    "\n",
    "Nous allons travailler avec les quelques données suivantes, présentées sous forme d'une liste de listes :"
   ]
  },
  {
   "cell_type": "code",
   "execution_count": 29,
   "metadata": {},
   "outputs": [],
   "source": [
    "L = [['givrali', '75', '46'],\n",
    " ['branette', '35', '153'],\n",
    " ['kyogre', '23', '-10'],\n",
    " ['roserade', '-87', '91'],\n",
    " ['balignon', '44', '-155'],\n",
    " ['keunotor', '32', '163'],\n",
    " ['givrali', '-22', '124'],\n",
    " ['kyogre', '-54', '-26'],\n",
    " ['pyronille', '11', '-102']]"
   ]
  },
  {
   "cell_type": "markdown",
   "metadata": {},
   "source": [
    "###  Question 1 \n",
    "Créer un dictionnaire `pokemon` dont la clé sera le nom du Pokémon, et la valeur le tuple de ses coordonnées.\n",
    "Si le Pokémon est en double dans la liste, sa valeur sera alors la chaîne de caractère `\"doublon\"`."
   ]
  },
  {
   "cell_type": "code",
   "execution_count": 30,
   "metadata": {},
   "outputs": [],
   "source": [
    "#solution possible\n",
    "\n",
    "pokemon = {}\n",
    "\n",
    "for personnage in L :\n",
    "    nom = personnage[0]\n",
    "    if nom in pokemon :\n",
    "        pokemon[nom] = \"doublon\"\n",
    "    else :\n",
    "        pokemon[nom] = (personnage[1],personnage[2])"
   ]
  },
  {
   "cell_type": "code",
   "execution_count": 31,
   "metadata": {},
   "outputs": [
    {
     "data": {
      "text/plain": [
       "{'givrali': 'doublon',\n",
       " 'branette': ('35', '153'),\n",
       " 'kyogre': 'doublon',\n",
       " 'roserade': ('-87', '91'),\n",
       " 'balignon': ('44', '-155'),\n",
       " 'keunotor': ('32', '163'),\n",
       " 'pyronille': ('11', '-102')}"
      ]
     },
     "execution_count": 31,
     "metadata": {},
     "output_type": "execute_result"
    }
   ],
   "source": [
    "pokemon"
   ]
  },
  {
   "cell_type": "markdown",
   "metadata": {},
   "source": [
    "###  Question 2 \n",
    "Les données d'entrée du pydéfi ont été enregistrées dans le fichier [input_defi.txt](./input_defi.txt). Les lignes suivantes permettent de parcourir chacun des personnages de la liste."
   ]
  },
  {
   "cell_type": "code",
   "execution_count": 38,
   "metadata": {},
   "outputs": [],
   "source": [
    "#code donné aux élèves\n",
    "fich = open(\"input_defi.txt\", \"r\")\n",
    "for ligne in fich.readlines():\n",
    "    personnage = ligne[:-1] #on enlève le caractère de retour à la ligne \\n\n",
    "    personnage = personnage.split(\",\") # on sépare les trois éléments de personnage, qui deviennent une liste\n",
    "    "
   ]
  },
  {
   "cell_type": "code",
   "execution_count": 33,
   "metadata": {},
   "outputs": [
    {
     "data": {
      "text/plain": [
       "['tauros', '-32', '-114']"
      ]
     },
     "execution_count": 33,
     "metadata": {},
     "output_type": "execute_result"
    }
   ],
   "source": [
    "personnage"
   ]
  },
  {
   "cell_type": "markdown",
   "metadata": {},
   "source": [
    "Tous les personnages ont été parcourus : seul le dernier (\"tauros\" s'affiche).\n",
    "Grâce au code ci-dessous et à la question 1, créer de la même manière qu'à la question 1 un dictionnaire qui contiendra tous les pokemons. "
   ]
  },
  {
   "cell_type": "code",
   "execution_count": 35,
   "metadata": {},
   "outputs": [],
   "source": [
    "#solution possible\n",
    "pokemon = {}\n",
    "fich = open(\"input_defi.txt\", \"r\")\n",
    "for ligne in fich.readlines():\n",
    "    personnage = ligne[:-1] \n",
    "    personnage = personnage.split(\",\") \n",
    "    nom = personnage[0]\n",
    "    if nom in pokemon :\n",
    "        pokemon[nom] = \"doublon\"\n",
    "    else :\n",
    "        pokemon[nom] = (personnage[1],personnage[2])"
   ]
  },
  {
   "cell_type": "markdown",
   "metadata": {},
   "source": [
    "###  Question 3\n",
    "Répondre au défi : quelles sont les coordonnées du seul pokémon unique de cette liste ?"
   ]
  },
  {
   "cell_type": "code",
   "execution_count": 37,
   "metadata": {},
   "outputs": [
    {
     "name": "stdout",
     "output_type": "stream",
     "text": [
      "('74', '-73')\n"
     ]
    }
   ],
   "source": [
    "# solution possible 1 : en regardant l'intégralité du dictionnaire pokemon (pas si grand...)\n",
    "\n",
    "# solution possible 2 :\n",
    "\n",
    "for (cle, valeur) in pokemon.items() :\n",
    "    if valeur != \"doublon\" :\n",
    "        print(valeur)"
   ]
  }
 ],
 "metadata": {
  "kernelspec": {
   "display_name": "Python 3",
   "language": "python",
   "name": "python3"
  },
  "language_info": {
   "codemirror_mode": {
    "name": "ipython",
    "version": 3
   },
   "file_extension": ".py",
   "mimetype": "text/x-python",
   "name": "python",
   "nbconvert_exporter": "python",
   "pygments_lexer": "ipython3",
   "version": "3.6.8"
  },
  "toc": {
   "base_numbering": 1,
   "nav_menu": {},
   "number_sections": false,
   "sideBar": true,
   "skip_h1_title": false,
   "title_cell": "Table of Contents",
   "title_sidebar": "Contents",
   "toc_cell": false,
   "toc_position": {},
   "toc_section_display": true,
   "toc_window_display": false
  }
 },
 "nbformat": 4,
 "nbformat_minor": 2
}
